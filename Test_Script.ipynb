{
 "cells": [
  {
   "cell_type": "markdown",
   "id": "f5dff343-667f-4b98-8a79-a6a0776d73b0",
   "metadata": {},
   "source": [
    "# Test Script"
   ]
  },
  {
   "cell_type": "code",
   "execution_count": 2,
   "id": "3675e725-f172-4a7f-bbaf-4b45a60969ca",
   "metadata": {},
   "outputs": [
    {
     "data": {
      "text/plain": [
       "2"
      ]
     },
     "execution_count": 2,
     "metadata": {},
     "output_type": "execute_result"
    }
   ],
   "source": [
    "1+1"
   ]
  },
  {
   "cell_type": "code",
   "execution_count": null,
   "id": "d7a1e35a-429e-47a4-ad8d-90787b896ce1",
   "metadata": {},
   "outputs": [],
   "source": []
  }
 ],
 "metadata": {
  "kernelspec": {
   "display_name": "Python 3 (ipykernel)",
   "language": "python",
   "name": "python3"
  },
  "language_info": {
   "codemirror_mode": {
    "name": "ipython",
    "version": 3
   },
   "file_extension": ".py",
   "mimetype": "text/x-python",
   "name": "python",
   "nbconvert_exporter": "python",
   "pygments_lexer": "ipython3",
   "version": "3.11.7"
  }
 },
 "nbformat": 4,
 "nbformat_minor": 5
}
