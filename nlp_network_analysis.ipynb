{
 "cells": [
  {
   "cell_type": "markdown",
   "id": "f4656b8e-8e5d-44a5-a3a9-f59ce261b0c0",
   "metadata": {},
   "source": [
    "# 1.6 20th Century NLP and Network Analysis"
   ]
  },
  {
   "cell_type": "markdown",
   "id": "318fa723-3d2a-4dbd-972b-4021e04409fa",
   "metadata": {},
   "source": [
    "## Import Libraries and Load Data"
   ]
  },
  {
   "cell_type": "code",
   "execution_count": 1,
   "id": "24e9aae3-674b-41ad-977d-548d5d610f54",
   "metadata": {},
   "outputs": [
    {
     "name": "stderr",
     "output_type": "stream",
     "text": [
      "/opt/anaconda3/envs/venv_20th_century/lib/python3.10/site-packages/scipy/__init__.py:155: UserWarning: A NumPy version >=1.18.5 and <1.26.0 is required for this version of SciPy (detected version 1.26.4\n",
      "  warnings.warn(f\"A NumPy version >={np_minversion} and <{np_maxversion}\"\n"
     ]
    }
   ],
   "source": [
    "# Import libraries\n",
    "import pandas as pd\n",
    "import numpy as np\n",
    "import spacy\n",
    "from spacy import displacy\n",
    "import networkx as nx\n",
    "import os\n",
    "import matplotlib.pyplot as plt\n",
    "import scipy\n",
    "import re"
   ]
  },
  {
   "cell_type": "code",
   "execution_count": 2,
   "id": "159627ef-355e-4543-b014-72dafc4ade8d",
   "metadata": {},
   "outputs": [],
   "source": [
    "# Load data\n",
    "with open('20th_century_wiki.txt', 'r', errors = 'ignore') as file:\n",
    "    data = file.read().replace('\\n', '')"
   ]
  },
  {
   "cell_type": "markdown",
   "id": "24ae80c7-b0de-4a2e-8ad6-9c92bb6afd8f",
   "metadata": {},
   "source": [
    "## Create NER Object"
   ]
  },
  {
   "cell_type": "code",
   "execution_count": 3,
   "id": "689dd8a7-4937-421a-89bb-a04d2ef9ad91",
   "metadata": {
    "scrolled": true
   },
   "outputs": [
    {
     "name": "stdout",
     "output_type": "stream",
     "text": [
      "Collecting en-core-web-sm==3.4.1\n",
      "  Using cached https://github.com/explosion/spacy-models/releases/download/en_core_web_sm-3.4.1/en_core_web_sm-3.4.1-py3-none-any.whl (12.8 MB)\n",
      "Requirement already satisfied: spacy<3.5.0,>=3.4.0 in /opt/anaconda3/envs/venv_20th_century/lib/python3.10/site-packages (from en-core-web-sm==3.4.1) (3.4.3)\n",
      "Requirement already satisfied: spacy-legacy<3.1.0,>=3.0.10 in /opt/anaconda3/envs/venv_20th_century/lib/python3.10/site-packages (from spacy<3.5.0,>=3.4.0->en-core-web-sm==3.4.1) (3.0.12)\n",
      "Requirement already satisfied: spacy-loggers<2.0.0,>=1.0.0 in /opt/anaconda3/envs/venv_20th_century/lib/python3.10/site-packages (from spacy<3.5.0,>=3.4.0->en-core-web-sm==3.4.1) (1.0.5)\n",
      "Requirement already satisfied: murmurhash<1.1.0,>=0.28.0 in /opt/anaconda3/envs/venv_20th_century/lib/python3.10/site-packages (from spacy<3.5.0,>=3.4.0->en-core-web-sm==3.4.1) (1.0.10)\n",
      "Requirement already satisfied: cymem<2.1.0,>=2.0.2 in /opt/anaconda3/envs/venv_20th_century/lib/python3.10/site-packages (from spacy<3.5.0,>=3.4.0->en-core-web-sm==3.4.1) (2.0.8)\n",
      "Requirement already satisfied: preshed<3.1.0,>=3.0.2 in /opt/anaconda3/envs/venv_20th_century/lib/python3.10/site-packages (from spacy<3.5.0,>=3.4.0->en-core-web-sm==3.4.1) (3.0.9)\n",
      "Requirement already satisfied: thinc<8.2.0,>=8.1.0 in /opt/anaconda3/envs/venv_20th_century/lib/python3.10/site-packages (from spacy<3.5.0,>=3.4.0->en-core-web-sm==3.4.1) (8.1.12)\n",
      "Requirement already satisfied: wasabi<1.1.0,>=0.9.1 in /opt/anaconda3/envs/venv_20th_century/lib/python3.10/site-packages (from spacy<3.5.0,>=3.4.0->en-core-web-sm==3.4.1) (0.10.1)\n",
      "Requirement already satisfied: srsly<3.0.0,>=2.4.3 in /opt/anaconda3/envs/venv_20th_century/lib/python3.10/site-packages (from spacy<3.5.0,>=3.4.0->en-core-web-sm==3.4.1) (2.4.8)\n",
      "Requirement already satisfied: catalogue<2.1.0,>=2.0.6 in /opt/anaconda3/envs/venv_20th_century/lib/python3.10/site-packages (from spacy<3.5.0,>=3.4.0->en-core-web-sm==3.4.1) (2.0.10)\n",
      "Requirement already satisfied: typer<0.8.0,>=0.3.0 in /opt/anaconda3/envs/venv_20th_century/lib/python3.10/site-packages (from spacy<3.5.0,>=3.4.0->en-core-web-sm==3.4.1) (0.4.2)\n",
      "Requirement already satisfied: pathy>=0.3.5 in /opt/anaconda3/envs/venv_20th_century/lib/python3.10/site-packages (from spacy<3.5.0,>=3.4.0->en-core-web-sm==3.4.1) (0.10.2)\n",
      "Requirement already satisfied: tqdm<5.0.0,>=4.38.0 in /opt/anaconda3/envs/venv_20th_century/lib/python3.10/site-packages (from spacy<3.5.0,>=3.4.0->en-core-web-sm==3.4.1) (4.66.4)\n",
      "Requirement already satisfied: numpy>=1.15.0 in /opt/anaconda3/envs/venv_20th_century/lib/python3.10/site-packages (from spacy<3.5.0,>=3.4.0->en-core-web-sm==3.4.1) (1.25.2)\n",
      "Requirement already satisfied: requests<3.0.0,>=2.13.0 in /opt/anaconda3/envs/venv_20th_century/lib/python3.10/site-packages (from spacy<3.5.0,>=3.4.0->en-core-web-sm==3.4.1) (2.31.0)\n",
      "Requirement already satisfied: pydantic!=1.8,!=1.8.1,<1.11.0,>=1.7.4 in /opt/anaconda3/envs/venv_20th_century/lib/python3.10/site-packages (from spacy<3.5.0,>=3.4.0->en-core-web-sm==3.4.1) (1.10.14)\n",
      "Requirement already satisfied: jinja2 in /opt/anaconda3/envs/venv_20th_century/lib/python3.10/site-packages (from spacy<3.5.0,>=3.4.0->en-core-web-sm==3.4.1) (3.1.4)\n",
      "Requirement already satisfied: setuptools in /opt/anaconda3/envs/venv_20th_century/lib/python3.10/site-packages (from spacy<3.5.0,>=3.4.0->en-core-web-sm==3.4.1) (69.5.1)\n",
      "Requirement already satisfied: packaging>=20.0 in /opt/anaconda3/envs/venv_20th_century/lib/python3.10/site-packages (from spacy<3.5.0,>=3.4.0->en-core-web-sm==3.4.1) (24.0)\n",
      "Requirement already satisfied: langcodes<4.0.0,>=3.2.0 in /opt/anaconda3/envs/venv_20th_century/lib/python3.10/site-packages (from spacy<3.5.0,>=3.4.0->en-core-web-sm==3.4.1) (3.4.0)\n",
      "Requirement already satisfied: language-data>=1.2 in /opt/anaconda3/envs/venv_20th_century/lib/python3.10/site-packages (from langcodes<4.0.0,>=3.2.0->spacy<3.5.0,>=3.4.0->en-core-web-sm==3.4.1) (1.2.0)\n",
      "Requirement already satisfied: smart-open<7.0.0,>=5.2.1 in /opt/anaconda3/envs/venv_20th_century/lib/python3.10/site-packages (from pathy>=0.3.5->spacy<3.5.0,>=3.4.0->en-core-web-sm==3.4.1) (5.2.1)\n",
      "Requirement already satisfied: typing-extensions>=4.2.0 in /opt/anaconda3/envs/venv_20th_century/lib/python3.10/site-packages (from pydantic!=1.8,!=1.8.1,<1.11.0,>=1.7.4->spacy<3.5.0,>=3.4.0->en-core-web-sm==3.4.1) (4.11.0)\n",
      "Requirement already satisfied: charset-normalizer<4,>=2 in /opt/anaconda3/envs/venv_20th_century/lib/python3.10/site-packages (from requests<3.0.0,>=2.13.0->spacy<3.5.0,>=3.4.0->en-core-web-sm==3.4.1) (3.3.2)\n",
      "Requirement already satisfied: idna<4,>=2.5 in /opt/anaconda3/envs/venv_20th_century/lib/python3.10/site-packages (from requests<3.0.0,>=2.13.0->spacy<3.5.0,>=3.4.0->en-core-web-sm==3.4.1) (3.7)\n",
      "Requirement already satisfied: urllib3<3,>=1.21.1 in /opt/anaconda3/envs/venv_20th_century/lib/python3.10/site-packages (from requests<3.0.0,>=2.13.0->spacy<3.5.0,>=3.4.0->en-core-web-sm==3.4.1) (2.2.1)\n",
      "Requirement already satisfied: certifi>=2017.4.17 in /opt/anaconda3/envs/venv_20th_century/lib/python3.10/site-packages (from requests<3.0.0,>=2.13.0->spacy<3.5.0,>=3.4.0->en-core-web-sm==3.4.1) (2024.2.2)\n",
      "Requirement already satisfied: blis<0.8.0,>=0.7.8 in /opt/anaconda3/envs/venv_20th_century/lib/python3.10/site-packages (from thinc<8.2.0,>=8.1.0->spacy<3.5.0,>=3.4.0->en-core-web-sm==3.4.1) (0.7.10)\n",
      "Requirement already satisfied: confection<1.0.0,>=0.0.1 in /opt/anaconda3/envs/venv_20th_century/lib/python3.10/site-packages (from thinc<8.2.0,>=8.1.0->spacy<3.5.0,>=3.4.0->en-core-web-sm==3.4.1) (0.1.4)\n",
      "Requirement already satisfied: click<9.0.0,>=7.1.1 in /opt/anaconda3/envs/venv_20th_century/lib/python3.10/site-packages (from typer<0.8.0,>=0.3.0->spacy<3.5.0,>=3.4.0->en-core-web-sm==3.4.1) (8.1.7)\n",
      "Requirement already satisfied: MarkupSafe>=2.0 in /opt/anaconda3/envs/venv_20th_century/lib/python3.10/site-packages (from jinja2->spacy<3.5.0,>=3.4.0->en-core-web-sm==3.4.1) (2.1.5)\n",
      "Requirement already satisfied: marisa-trie>=0.7.7 in /opt/anaconda3/envs/venv_20th_century/lib/python3.10/site-packages (from language-data>=1.2->langcodes<4.0.0,>=3.2.0->spacy<3.5.0,>=3.4.0->en-core-web-sm==3.4.1) (1.1.0)\n",
      "\u001b[38;5;2m✔ Download and installation successful\u001b[0m\n",
      "You can now load the package via spacy.load('en_core_web_sm')\n"
     ]
    }
   ],
   "source": [
    "# Download English module\n",
    "!python -m spacy download en_core_web_sm"
   ]
  },
  {
   "cell_type": "code",
   "execution_count": 4,
   "id": "a4be7a90-90f4-412e-8136-da0f996e3a6c",
   "metadata": {},
   "outputs": [],
   "source": [
    "# Load spacy English module\n",
    "NER = spacy.load(\"en_core_web_sm\")"
   ]
  },
  {
   "cell_type": "code",
   "execution_count": 5,
   "id": "100f0e16-464b-4815-8af8-c0dee5c0652b",
   "metadata": {},
   "outputs": [],
   "source": [
    "book = NER(data)"
   ]
  },
  {
   "cell_type": "markdown",
   "id": "5f7735f3-d0d2-4936-b729-c8122a2200de",
   "metadata": {},
   "source": [
    "## Split Sentence Entities"
   ]
  },
  {
   "cell_type": "code",
   "execution_count": 6,
   "id": "f93d8b1c-e026-4d6c-921a-1ba20a3181bd",
   "metadata": {},
   "outputs": [],
   "source": [
    "df_sentences = []\n",
    "\n",
    "# Loop through sentences, get entity list for each sentence\n",
    "for sent in book.sents:\n",
    "    entity_list = [ent.text for ent in sent.ents]\n",
    "    df_sentences.append({\"sentence\": sent, \"entities\": entity_list})"
   ]
  },
  {
   "cell_type": "code",
   "execution_count": 7,
   "id": "b10ca591-b215-4484-bff2-2a8461fc1673",
   "metadata": {},
   "outputs": [],
   "source": [
    "# Put sentences into df\n",
    "df_sentences = pd.DataFrame(df_sentences)"
   ]
  },
  {
   "cell_type": "code",
   "execution_count": 8,
   "id": "fd95505a-b41d-4490-b0d9-f9fc7a24d79a",
   "metadata": {},
   "outputs": [
    {
     "data": {
      "text/html": [
       "<div>\n",
       "<style scoped>\n",
       "    .dataframe tbody tr th:only-of-type {\n",
       "        vertical-align: middle;\n",
       "    }\n",
       "\n",
       "    .dataframe tbody tr th {\n",
       "        vertical-align: top;\n",
       "    }\n",
       "\n",
       "    .dataframe thead th {\n",
       "        text-align: right;\n",
       "    }\n",
       "</style>\n",
       "<table border=\"1\" class=\"dataframe\">\n",
       "  <thead>\n",
       "    <tr style=\"text-align: right;\">\n",
       "      <th></th>\n",
       "      <th>sentence</th>\n",
       "      <th>entities</th>\n",
       "    </tr>\n",
       "  </thead>\n",
       "  <tbody>\n",
       "    <tr>\n",
       "      <th>0</th>\n",
       "      <td>(Key, events, of, the, 20th, century, -, Wikip...</td>\n",
       "      <td>[the 20th century - WikipediaJump, Contribute,...</td>\n",
       "    </tr>\n",
       "    <tr>\n",
       "      <th>1</th>\n",
       "      <td>(depression1.2.2The, rise, of, dictatorship1.3...</td>\n",
       "      <td>[World War II, Pacific1.3.7.1Background1.3.8Ja...</td>\n",
       "    </tr>\n",
       "    <tr>\n",
       "      <th>2</th>\n",
       "      <td>(begins1.4The, post, -, war, world1.4.1The, en...</td>\n",
       "      <td>[Cold War, 1947–1991)1.4.3War]</td>\n",
       "    </tr>\n",
       "    <tr>\n",
       "      <th>3</th>\n",
       "      <td>(race1.4.5The, end, of, the, Cold, War1.4.6Inf...</td>\n",
       "      <td>[the Cold War1.4.6Information, 20th, pageGet, ...</td>\n",
       "    </tr>\n",
       "    <tr>\n",
       "      <th>4</th>\n",
       "      <td>(The, World, Wars, sparked, tension, between, ...</td>\n",
       "      <td>[the Cold War, the Space Race]</td>\n",
       "    </tr>\n",
       "    <tr>\n",
       "      <th>5</th>\n",
       "      <td>(These, advancements, have, played, a, signifi...</td>\n",
       "      <td>[the 21st century, today]</td>\n",
       "    </tr>\n",
       "    <tr>\n",
       "      <th>6</th>\n",
       "      <td>(Events, in, the, 20th, century[edit]The, worl...</td>\n",
       "      <td>[the 20th]</td>\n",
       "    </tr>\n",
       "    <tr>\n",
       "      <th>7</th>\n",
       "      <td>(Edwardian, eraThe, new, beginning, of, the, 2...</td>\n",
       "      <td>[Edwardian, the 20th century]</td>\n",
       "    </tr>\n",
       "    <tr>\n",
       "      <th>8</th>\n",
       "      <td>(The, 1900s, saw, the, decade, herald, a, seri...</td>\n",
       "      <td>[The 1900s, the decade]</td>\n",
       "    </tr>\n",
       "    <tr>\n",
       "      <th>9</th>\n",
       "      <td>(From, 1914, to, 1918, ,, the, First, World, W...</td>\n",
       "      <td>[1914 to 1918, the First World War]</td>\n",
       "    </tr>\n",
       "  </tbody>\n",
       "</table>\n",
       "</div>"
      ],
      "text/plain": [
       "                                            sentence  \\\n",
       "0  (Key, events, of, the, 20th, century, -, Wikip...   \n",
       "1  (depression1.2.2The, rise, of, dictatorship1.3...   \n",
       "2  (begins1.4The, post, -, war, world1.4.1The, en...   \n",
       "3  (race1.4.5The, end, of, the, Cold, War1.4.6Inf...   \n",
       "4  (The, World, Wars, sparked, tension, between, ...   \n",
       "5  (These, advancements, have, played, a, signifi...   \n",
       "6  (Events, in, the, 20th, century[edit]The, worl...   \n",
       "7  (Edwardian, eraThe, new, beginning, of, the, 2...   \n",
       "8  (The, 1900s, saw, the, decade, herald, a, seri...   \n",
       "9  (From, 1914, to, 1918, ,, the, First, World, W...   \n",
       "\n",
       "                                            entities  \n",
       "0  [the 20th century - WikipediaJump, Contribute,...  \n",
       "1  [World War II, Pacific1.3.7.1Background1.3.8Ja...  \n",
       "2                     [Cold War, 1947–1991)1.4.3War]  \n",
       "3  [the Cold War1.4.6Information, 20th, pageGet, ...  \n",
       "4                     [the Cold War, the Space Race]  \n",
       "5                          [the 21st century, today]  \n",
       "6                                         [the 20th]  \n",
       "7                      [Edwardian, the 20th century]  \n",
       "8                            [The 1900s, the decade]  \n",
       "9                [1914 to 1918, the First World War]  "
      ]
     },
     "execution_count": 8,
     "metadata": {},
     "output_type": "execute_result"
    }
   ],
   "source": [
    "df_sentences.head(10)"
   ]
  },
  {
   "cell_type": "markdown",
   "id": "6804f00e-50e7-4fa6-b7c2-1a52106d3876",
   "metadata": {},
   "source": [
    "## Filter Entities for Country Names Only"
   ]
  },
  {
   "cell_type": "code",
   "execution_count": 9,
   "id": "55e9d5a2-5bfc-4afc-8da4-e3e69ccbfbb5",
   "metadata": {},
   "outputs": [],
   "source": [
    "# Load country names\n",
    "country_df = pd.read_csv('countries_list_20th_century_1.5.csv', index_col = 0)"
   ]
  },
  {
   "cell_type": "code",
   "execution_count": 10,
   "id": "7b2cbc6d-370e-479c-9742-162a23e9f8c0",
   "metadata": {},
   "outputs": [],
   "source": [
    "# Remove spaces before and after country names\n",
    "country_df['country_name'] = country_df['country_name'].str.strip()"
   ]
  },
  {
   "cell_type": "code",
   "execution_count": 11,
   "id": "4c926c23-4202-497f-89f3-a19cc8967e9d",
   "metadata": {},
   "outputs": [
    {
     "data": {
      "text/html": [
       "<div>\n",
       "<style scoped>\n",
       "    .dataframe tbody tr th:only-of-type {\n",
       "        vertical-align: middle;\n",
       "    }\n",
       "\n",
       "    .dataframe tbody tr th {\n",
       "        vertical-align: top;\n",
       "    }\n",
       "\n",
       "    .dataframe thead th {\n",
       "        text-align: right;\n",
       "    }\n",
       "</style>\n",
       "<table border=\"1\" class=\"dataframe\">\n",
       "  <thead>\n",
       "    <tr style=\"text-align: right;\">\n",
       "      <th></th>\n",
       "      <th>country_name</th>\n",
       "    </tr>\n",
       "  </thead>\n",
       "  <tbody>\n",
       "    <tr>\n",
       "      <th>1</th>\n",
       "      <td>Afghanistan</td>\n",
       "    </tr>\n",
       "    <tr>\n",
       "      <th>2</th>\n",
       "      <td>Albania</td>\n",
       "    </tr>\n",
       "    <tr>\n",
       "      <th>3</th>\n",
       "      <td>Algeria</td>\n",
       "    </tr>\n",
       "    <tr>\n",
       "      <th>4</th>\n",
       "      <td>Andorra</td>\n",
       "    </tr>\n",
       "    <tr>\n",
       "      <th>5</th>\n",
       "      <td>Angola</td>\n",
       "    </tr>\n",
       "  </tbody>\n",
       "</table>\n",
       "</div>"
      ],
      "text/plain": [
       "  country_name\n",
       "1  Afghanistan\n",
       "2      Albania\n",
       "3      Algeria\n",
       "4      Andorra\n",
       "5       Angola"
      ]
     },
     "execution_count": 11,
     "metadata": {},
     "output_type": "execute_result"
    }
   ],
   "source": [
    "country_df.head(5)"
   ]
  },
  {
   "cell_type": "code",
   "execution_count": 12,
   "id": "f482ab3f-67ba-458d-ad03-b5074d272f2f",
   "metadata": {},
   "outputs": [],
   "source": [
    "# Function to filter out entities not of interest\n",
    "def filter_entity(ent_list, country_df):\n",
    "    return [ent for ent in ent_list \n",
    "            if ent in list(country_df['country_name'])]"
   ]
  },
  {
   "cell_type": "code",
   "execution_count": 13,
   "id": "c20717f9-a902-418d-8874-d537be469617",
   "metadata": {},
   "outputs": [
    {
     "data": {
      "text/plain": [
       "['Germany']"
      ]
     },
     "execution_count": 13,
     "metadata": {},
     "output_type": "execute_result"
    }
   ],
   "source": [
    "# Check that it works\n",
    "filter_entity([\"Germany\", \"CF\", \"2\"], country_df)"
   ]
  },
  {
   "cell_type": "code",
   "execution_count": 14,
   "id": "400e7bf8-b045-4cf3-b44c-26ec429d9865",
   "metadata": {},
   "outputs": [],
   "source": [
    "df_sentences['country_entities'] = df_sentences['entities'].apply(lambda x: filter_entity(x, country_df))"
   ]
  },
  {
   "cell_type": "code",
   "execution_count": 15,
   "id": "3ecba44f-17a4-44a6-99f6-9d7ad260f88f",
   "metadata": {},
   "outputs": [
    {
     "data": {
      "text/plain": [
       "0                                                []\n",
       "1                                                []\n",
       "2                                                []\n",
       "3                                                []\n",
       "4                                                []\n",
       "5                                                []\n",
       "6                                                []\n",
       "7                                                []\n",
       "8                                                []\n",
       "9                                                []\n",
       "10                                               []\n",
       "11                                               []\n",
       "12                                               []\n",
       "13                                               []\n",
       "14                          [France, Italy, Russia]\n",
       "15    [Germany, Austria, Hungary, Bulgaria, Russia]\n",
       "16                                [Germany, Russia]\n",
       "17                                        [Germany]\n",
       "18                                        [Germany]\n",
       "19                                               []\n",
       "Name: country_entities, dtype: object"
      ]
     },
     "execution_count": 15,
     "metadata": {},
     "output_type": "execute_result"
    }
   ],
   "source": [
    "df_sentences['country_entities'].head(20)"
   ]
  },
  {
   "cell_type": "code",
   "execution_count": 16,
   "id": "28544441-eb87-45c8-a24f-a1750a1945a3",
   "metadata": {},
   "outputs": [],
   "source": [
    "# Filter out sentences that don't have any character entities\n",
    "df_sentences_filtered = df_sentences[df_sentences['country_entities'].map(len) > 0]"
   ]
  },
  {
   "cell_type": "code",
   "execution_count": 17,
   "id": "05e1d2f7-e989-4f6f-b1af-b35162938040",
   "metadata": {},
   "outputs": [
    {
     "data": {
      "text/html": [
       "<div>\n",
       "<style scoped>\n",
       "    .dataframe tbody tr th:only-of-type {\n",
       "        vertical-align: middle;\n",
       "    }\n",
       "\n",
       "    .dataframe tbody tr th {\n",
       "        vertical-align: top;\n",
       "    }\n",
       "\n",
       "    .dataframe thead th {\n",
       "        text-align: right;\n",
       "    }\n",
       "</style>\n",
       "<table border=\"1\" class=\"dataframe\">\n",
       "  <thead>\n",
       "    <tr style=\"text-align: right;\">\n",
       "      <th></th>\n",
       "      <th>sentence</th>\n",
       "      <th>entities</th>\n",
       "      <th>country_entities</th>\n",
       "    </tr>\n",
       "  </thead>\n",
       "  <tbody>\n",
       "    <tr>\n",
       "      <th>14</th>\n",
       "      <td>(Interwoven, alliances, ,, an, increasing, arm...</td>\n",
       "      <td>[Europe, Allies, The Triple Entente, British E...</td>\n",
       "      <td>[France, Italy, Russia]</td>\n",
       "    </tr>\n",
       "    <tr>\n",
       "      <th>15</th>\n",
       "      <td>(Germany, ,, Austria, -, Hungary, ,, Bulgaria,...</td>\n",
       "      <td>[Germany, Austria, Hungary, Bulgaria, the Otto...</td>\n",
       "      <td>[Germany, Austria, Hungary, Bulgaria, Russia]</td>\n",
       "    </tr>\n",
       "    <tr>\n",
       "      <th>16</th>\n",
       "      <td>(The, Bolsheviks, negotiated, the, Treaty, of,...</td>\n",
       "      <td>[the Treaty of Brest-Litovsk, Germany, Russia]</td>\n",
       "      <td>[Germany, Russia]</td>\n",
       "    </tr>\n",
       "    <tr>\n",
       "      <th>17</th>\n",
       "      <td>(In, the, treaty, ,, Bolshevik, Russia, ceded,...</td>\n",
       "      <td>[Bolshevik Russia, Baltic, Germany, Kars Oblas...</td>\n",
       "      <td>[Germany]</td>\n",
       "    </tr>\n",
       "    <tr>\n",
       "      <th>18</th>\n",
       "      <td>(It, also, recognized, the, independence, of, ...</td>\n",
       "      <td>[Germany, Allied, American]</td>\n",
       "      <td>[Germany]</td>\n",
       "    </tr>\n",
       "  </tbody>\n",
       "</table>\n",
       "</div>"
      ],
      "text/plain": [
       "                                             sentence  \\\n",
       "14  (Interwoven, alliances, ,, an, increasing, arm...   \n",
       "15  (Germany, ,, Austria, -, Hungary, ,, Bulgaria,...   \n",
       "16  (The, Bolsheviks, negotiated, the, Treaty, of,...   \n",
       "17  (In, the, treaty, ,, Bolshevik, Russia, ceded,...   \n",
       "18  (It, also, recognized, the, independence, of, ...   \n",
       "\n",
       "                                             entities  \\\n",
       "14  [Europe, Allies, The Triple Entente, British E...   \n",
       "15  [Germany, Austria, Hungary, Bulgaria, the Otto...   \n",
       "16     [the Treaty of Brest-Litovsk, Germany, Russia]   \n",
       "17  [Bolshevik Russia, Baltic, Germany, Kars Oblas...   \n",
       "18                        [Germany, Allied, American]   \n",
       "\n",
       "                                 country_entities  \n",
       "14                        [France, Italy, Russia]  \n",
       "15  [Germany, Austria, Hungary, Bulgaria, Russia]  \n",
       "16                              [Germany, Russia]  \n",
       "17                                      [Germany]  \n",
       "18                                      [Germany]  "
      ]
     },
     "execution_count": 17,
     "metadata": {},
     "output_type": "execute_result"
    }
   ],
   "source": [
    "df_sentences_filtered.head(5)"
   ]
  },
  {
   "cell_type": "markdown",
   "id": "ad61b3d1-c1f9-47a0-9639-ce163956be95",
   "metadata": {},
   "source": [
    "## Create Relationships Dataframe"
   ]
  },
  {
   "cell_type": "code",
   "execution_count": 18,
   "id": "08ecfbdd-3684-4da4-acc5-fb8e66d2c93c",
   "metadata": {},
   "outputs": [],
   "source": [
    "# Defining relationships \n",
    "\n",
    "relationships = [] # create an empty list\n",
    "\n",
    "for i in range(df_sentences_filtered.index[-1]):\n",
    "    end_i = min(i + 5, df_sentences_filtered.index[-1])\n",
    "    char_list = sum((df_sentences_filtered.loc[i: end_i].country_entities), [])\n",
    "    \n",
    "    # Remove duplicated characters that are next to each other\n",
    "    char_unique = [char_list[i] for i in range(len(char_list)) \n",
    "                   if (i == 0) or char_list[i] != char_list[i-1]]\n",
    "    \n",
    "    if len(char_unique) > 1:\n",
    "        for idx, a in enumerate(char_unique[:-1]):\n",
    "            b = char_unique[idx + 1]\n",
    "            relationships.append({'source': a, 'target': b})"
   ]
  },
  {
   "cell_type": "code",
   "execution_count": 19,
   "id": "21d908e9-226c-4b63-80e9-685c580337a1",
   "metadata": {},
   "outputs": [],
   "source": [
    "relationship_df = pd.DataFrame(relationships)"
   ]
  },
  {
   "cell_type": "code",
   "execution_count": 20,
   "id": "a675902f-ef0d-42ed-a0e6-2c49106fdec3",
   "metadata": {},
   "outputs": [
    {
     "data": {
      "text/html": [
       "<div>\n",
       "<style scoped>\n",
       "    .dataframe tbody tr th:only-of-type {\n",
       "        vertical-align: middle;\n",
       "    }\n",
       "\n",
       "    .dataframe tbody tr th {\n",
       "        vertical-align: top;\n",
       "    }\n",
       "\n",
       "    .dataframe thead th {\n",
       "        text-align: right;\n",
       "    }\n",
       "</style>\n",
       "<table border=\"1\" class=\"dataframe\">\n",
       "  <thead>\n",
       "    <tr style=\"text-align: right;\">\n",
       "      <th></th>\n",
       "      <th>source</th>\n",
       "      <th>target</th>\n",
       "    </tr>\n",
       "  </thead>\n",
       "  <tbody>\n",
       "    <tr>\n",
       "      <th>0</th>\n",
       "      <td>France</td>\n",
       "      <td>Italy</td>\n",
       "    </tr>\n",
       "    <tr>\n",
       "      <th>1</th>\n",
       "      <td>Italy</td>\n",
       "      <td>Russia</td>\n",
       "    </tr>\n",
       "    <tr>\n",
       "      <th>2</th>\n",
       "      <td>France</td>\n",
       "      <td>Italy</td>\n",
       "    </tr>\n",
       "    <tr>\n",
       "      <th>3</th>\n",
       "      <td>Italy</td>\n",
       "      <td>Russia</td>\n",
       "    </tr>\n",
       "    <tr>\n",
       "      <th>4</th>\n",
       "      <td>Russia</td>\n",
       "      <td>Germany</td>\n",
       "    </tr>\n",
       "  </tbody>\n",
       "</table>\n",
       "</div>"
      ],
      "text/plain": [
       "   source   target\n",
       "0  France    Italy\n",
       "1   Italy   Russia\n",
       "2  France    Italy\n",
       "3   Italy   Russia\n",
       "4  Russia  Germany"
      ]
     },
     "execution_count": 20,
     "metadata": {},
     "output_type": "execute_result"
    }
   ],
   "source": [
    "relationship_df.head()"
   ]
  },
  {
   "cell_type": "code",
   "execution_count": 21,
   "id": "bd3a17e6-9ad5-4396-927a-90d77e003d0e",
   "metadata": {},
   "outputs": [
    {
     "data": {
      "text/html": [
       "<div>\n",
       "<style scoped>\n",
       "    .dataframe tbody tr th:only-of-type {\n",
       "        vertical-align: middle;\n",
       "    }\n",
       "\n",
       "    .dataframe tbody tr th {\n",
       "        vertical-align: top;\n",
       "    }\n",
       "\n",
       "    .dataframe thead th {\n",
       "        text-align: right;\n",
       "    }\n",
       "</style>\n",
       "<table border=\"1\" class=\"dataframe\">\n",
       "  <thead>\n",
       "    <tr style=\"text-align: right;\">\n",
       "      <th></th>\n",
       "      <th>source</th>\n",
       "      <th>target</th>\n",
       "    </tr>\n",
       "  </thead>\n",
       "  <tbody>\n",
       "    <tr>\n",
       "      <th>0</th>\n",
       "      <td>France</td>\n",
       "      <td>Italy</td>\n",
       "    </tr>\n",
       "    <tr>\n",
       "      <th>1</th>\n",
       "      <td>Italy</td>\n",
       "      <td>Russia</td>\n",
       "    </tr>\n",
       "    <tr>\n",
       "      <th>2</th>\n",
       "      <td>France</td>\n",
       "      <td>Italy</td>\n",
       "    </tr>\n",
       "    <tr>\n",
       "      <th>3</th>\n",
       "      <td>Italy</td>\n",
       "      <td>Russia</td>\n",
       "    </tr>\n",
       "    <tr>\n",
       "      <th>4</th>\n",
       "      <td>Germany</td>\n",
       "      <td>Russia</td>\n",
       "    </tr>\n",
       "  </tbody>\n",
       "</table>\n",
       "</div>"
      ],
      "text/plain": [
       "    source  target\n",
       "0   France   Italy\n",
       "1    Italy  Russia\n",
       "2   France   Italy\n",
       "3    Italy  Russia\n",
       "4  Germany  Russia"
      ]
     },
     "execution_count": 21,
     "metadata": {},
     "output_type": "execute_result"
    }
   ],
   "source": [
    "# Sort the cases with a->b and b->a\n",
    "relationship_df = pd.DataFrame(np.sort(relationship_df.values, axis = 1), columns = relationship_df.columns)\n",
    "relationship_df.head(5)"
   ]
  },
  {
   "cell_type": "code",
   "execution_count": 22,
   "id": "dff319cc-fa5f-4d74-9ddb-11c7a360ee38",
   "metadata": {},
   "outputs": [],
   "source": [
    "# Summarize the interactions\n",
    "relationship_df['value'] = 1\n",
    "relationship_df = relationship_df.groupby(['source', 'target'], sort = False, as_index = False).sum()"
   ]
  },
  {
   "cell_type": "code",
   "execution_count": 23,
   "id": "5c87ce48-e258-4e87-af25-797941e1cba1",
   "metadata": {},
   "outputs": [
    {
     "data": {
      "text/html": [
       "<div>\n",
       "<style scoped>\n",
       "    .dataframe tbody tr th:only-of-type {\n",
       "        vertical-align: middle;\n",
       "    }\n",
       "\n",
       "    .dataframe tbody tr th {\n",
       "        vertical-align: top;\n",
       "    }\n",
       "\n",
       "    .dataframe thead th {\n",
       "        text-align: right;\n",
       "    }\n",
       "</style>\n",
       "<table border=\"1\" class=\"dataframe\">\n",
       "  <thead>\n",
       "    <tr style=\"text-align: right;\">\n",
       "      <th></th>\n",
       "      <th>source</th>\n",
       "      <th>target</th>\n",
       "      <th>value</th>\n",
       "    </tr>\n",
       "  </thead>\n",
       "  <tbody>\n",
       "    <tr>\n",
       "      <th>0</th>\n",
       "      <td>France</td>\n",
       "      <td>Italy</td>\n",
       "      <td>10</td>\n",
       "    </tr>\n",
       "    <tr>\n",
       "      <th>1</th>\n",
       "      <td>Italy</td>\n",
       "      <td>Russia</td>\n",
       "      <td>6</td>\n",
       "    </tr>\n",
       "    <tr>\n",
       "      <th>2</th>\n",
       "      <td>Germany</td>\n",
       "      <td>Russia</td>\n",
       "      <td>26</td>\n",
       "    </tr>\n",
       "    <tr>\n",
       "      <th>3</th>\n",
       "      <td>Austria</td>\n",
       "      <td>Germany</td>\n",
       "      <td>17</td>\n",
       "    </tr>\n",
       "    <tr>\n",
       "      <th>4</th>\n",
       "      <td>Austria</td>\n",
       "      <td>Hungary</td>\n",
       "      <td>6</td>\n",
       "    </tr>\n",
       "    <tr>\n",
       "      <th>5</th>\n",
       "      <td>Bulgaria</td>\n",
       "      <td>Hungary</td>\n",
       "      <td>6</td>\n",
       "    </tr>\n",
       "    <tr>\n",
       "      <th>6</th>\n",
       "      <td>Bulgaria</td>\n",
       "      <td>Russia</td>\n",
       "      <td>6</td>\n",
       "    </tr>\n",
       "    <tr>\n",
       "      <th>7</th>\n",
       "      <td>Germany</td>\n",
       "      <td>Italy</td>\n",
       "      <td>26</td>\n",
       "    </tr>\n",
       "    <tr>\n",
       "      <th>8</th>\n",
       "      <td>Germany</td>\n",
       "      <td>Spain</td>\n",
       "      <td>1</td>\n",
       "    </tr>\n",
       "    <tr>\n",
       "      <th>9</th>\n",
       "      <td>France</td>\n",
       "      <td>Spain</td>\n",
       "      <td>1</td>\n",
       "    </tr>\n",
       "  </tbody>\n",
       "</table>\n",
       "</div>"
      ],
      "text/plain": [
       "     source   target  value\n",
       "0    France    Italy     10\n",
       "1     Italy   Russia      6\n",
       "2   Germany   Russia     26\n",
       "3   Austria  Germany     17\n",
       "4   Austria  Hungary      6\n",
       "5  Bulgaria  Hungary      6\n",
       "6  Bulgaria   Russia      6\n",
       "7   Germany    Italy     26\n",
       "8   Germany    Spain      1\n",
       "9    France    Spain      1"
      ]
     },
     "execution_count": 23,
     "metadata": {},
     "output_type": "execute_result"
    }
   ],
   "source": [
    "relationship_df.head(10)"
   ]
  },
  {
   "cell_type": "code",
   "execution_count": 24,
   "id": "cf842b4f-f19a-47cf-b669-bf5f3c364ae6",
   "metadata": {},
   "outputs": [],
   "source": [
    "relationship_df.to_csv('20th_century_relationship.csv')"
   ]
  },
  {
   "cell_type": "code",
   "execution_count": null,
   "id": "f4d10df1-0965-4f86-a0cb-eb42b4dc19ae",
   "metadata": {},
   "outputs": [],
   "source": []
  }
 ],
 "metadata": {
  "kernelspec": {
   "display_name": "Python [conda env:venv_20th_century]",
   "language": "python",
   "name": "conda-env-venv_20th_century-py"
  },
  "language_info": {
   "codemirror_mode": {
    "name": "ipython",
    "version": 3
   },
   "file_extension": ".py",
   "mimetype": "text/x-python",
   "name": "python",
   "nbconvert_exporter": "python",
   "pygments_lexer": "ipython3",
   "version": "3.10.14"
  }
 },
 "nbformat": 4,
 "nbformat_minor": 5
}
