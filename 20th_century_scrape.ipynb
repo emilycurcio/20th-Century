{
 "cells": [
  {
   "cell_type": "markdown",
   "id": "352c1648-94f6-4748-af78-889dd1ae0108",
   "metadata": {},
   "source": [
    "# Task 1.4: 20th Century Scrape"
   ]
  },
  {
   "cell_type": "code",
   "execution_count": 1,
   "id": "94d060bb-8d4d-426a-a728-5479e6f09961",
   "metadata": {},
   "outputs": [],
   "source": [
    "# Import libraries\n",
    "from bs4 import BeautifulSoup\n",
    "import requests"
   ]
  },
  {
   "cell_type": "code",
   "execution_count": 2,
   "id": "73e9b2e5-8747-441c-9ee6-47120c2fcf69",
   "metadata": {},
   "outputs": [],
   "source": [
    "# Get URL\n",
    "page_url =  requests.get('https://en.wikipedia.org/wiki/Key_events_of_the_20th_century')"
   ]
  },
  {
   "cell_type": "code",
   "execution_count": 3,
   "id": "04869ebe-7a2f-4068-86d0-b47e88259d85",
   "metadata": {},
   "outputs": [
    {
     "name": "stdout",
     "output_type": "stream",
     "text": [
      "<title>Key events of the 20th century - Wikipedia</title>\n"
     ]
    }
   ],
   "source": [
    "# Create soup and get title\n",
    "soup = BeautifulSoup(page_url.text, 'html.parser')\n",
    "print(soup.title)"
   ]
  },
  {
   "cell_type": "code",
   "execution_count": 4,
   "id": "f7f4071a-2a9d-4b1b-a1ad-111936c61203",
   "metadata": {},
   "outputs": [],
   "source": [
    "# Save file with stored text\n",
    "text = soup.get_text()\n",
    "\n",
    "text = text.encode ('utf-8')\n",
    "\n",
    "with open('20th_century_wiki.txt', 'wb') as f:\n",
    "       f.write(text)"
   ]
  },
  {
   "cell_type": "code",
   "execution_count": null,
   "id": "50c95e2b-ba03-400c-a039-23101805bff9",
   "metadata": {},
   "outputs": [],
   "source": []
  }
 ],
 "metadata": {
  "kernelspec": {
   "display_name": "Python [conda env:venv_20th_century]",
   "language": "python",
   "name": "conda-env-venv_20th_century-py"
  },
  "language_info": {
   "codemirror_mode": {
    "name": "ipython",
    "version": 3
   },
   "file_extension": ".py",
   "mimetype": "text/x-python",
   "name": "python",
   "nbconvert_exporter": "python",
   "pygments_lexer": "ipython3",
   "version": "3.12.3"
  }
 },
 "nbformat": 4,
 "nbformat_minor": 5
}
