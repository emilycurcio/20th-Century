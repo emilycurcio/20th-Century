{
 "cells": [
  {
   "cell_type": "markdown",
   "id": "049a16fa-81ba-43d8-8c1b-4711889ae837",
   "metadata": {},
   "source": [
    "# Task 1.5: 20th Century Text Mining"
   ]
  },
  {
   "cell_type": "markdown",
   "id": "ad3b3451-fce5-41d9-b1cc-70b57733a516",
   "metadata": {},
   "source": [
    "## Import Libraries"
   ]
  },
  {
   "cell_type": "code",
   "execution_count": 1,
   "id": "f05b87b5-f99d-4dd8-8f88-d8338dadc403",
   "metadata": {},
   "outputs": [
    {
     "name": "stderr",
     "output_type": "stream",
     "text": [
      "[nltk_data] Downloading package stopwords to\n",
      "[nltk_data]     /Users/emilycurcio/nltk_data...\n",
      "[nltk_data]   Package stopwords is already up-to-date!\n",
      "[nltk_data] Downloading package punkt to\n",
      "[nltk_data]     /Users/emilycurcio/nltk_data...\n",
      "[nltk_data]   Package punkt is already up-to-date!\n",
      "[nltk_data] Downloading package averaged_perceptron_tagger to\n",
      "[nltk_data]     /Users/emilycurcio/nltk_data...\n",
      "[nltk_data]   Package averaged_perceptron_tagger is already up-to-\n",
      "[nltk_data]       date!\n"
     ]
    }
   ],
   "source": [
    "# Import libraries\n",
    "from textblob import TextBlob \n",
    "import pandas as pd\n",
    "import seaborn as sns\n",
    "import matplotlib.pyplot as plt\n",
    "import matplotlib\n",
    "import nltk\n",
    "import re\n",
    "nltk.download('stopwords')\n",
    "nltk.download('punkt')\n",
    "nltk.download('averaged_perceptron_tagger')\n",
    "from collections import Counter\n",
    "sns.set()"
   ]
  },
  {
   "cell_type": "markdown",
   "id": "4254f251-b129-40d4-b4a5-060d3a92b68f",
   "metadata": {},
   "source": [
    "## Load Data"
   ]
  },
  {
   "cell_type": "code",
   "execution_count": 2,
   "id": "23d4d972-dd04-4d5e-9014-6104b2649a77",
   "metadata": {},
   "outputs": [],
   "source": [
    "# Import text file\n",
    "myfile = open('20th_century_wiki.txt', encoding = 'utf-8')"
   ]
  },
  {
   "cell_type": "code",
   "execution_count": 3,
   "id": "4b4a1040-c8c4-4d37-ba74-da2ece1599db",
   "metadata": {},
   "outputs": [],
   "source": [
    "with open('20th_century_wiki.txt', 'r', errors = 'ignore') as file:\n",
    "    data = file.read().replace('\\n', '')"
   ]
  },
  {
   "cell_type": "markdown",
   "id": "574cb9a5-af41-415d-ae4f-7eaac46c1666",
   "metadata": {},
   "source": [
    "## Tokenize Words"
   ]
  },
  {
   "cell_type": "code",
   "execution_count": 4,
   "id": "13ac2d1f-4e42-48ed-a46a-1be5b8fa8195",
   "metadata": {
    "scrolled": true
   },
   "outputs": [
    {
     "name": "stdout",
     "output_type": "stream",
     "text": [
      "['Key', 'events', 'of', 'the', '20th']\n"
     ]
    }
   ],
   "source": [
    "# Word tokenization\n",
    "from nltk.tokenize import word_tokenize\n",
    "tokenized_word = word_tokenize(data)\n",
    "print(tokenized_word[:5])"
   ]
  },
  {
   "cell_type": "code",
   "execution_count": 5,
   "id": "8eb306e0-9fff-4ce5-a26b-f4f2bd5b9e4c",
   "metadata": {},
   "outputs": [
    {
     "name": "stdout",
     "output_type": "stream",
     "text": [
      "<FreqDist with 4888 samples and 20364 outcomes>\n"
     ]
    }
   ],
   "source": [
    "# Create frequency distribution\n",
    "from nltk.probability import FreqDist\n",
    "dist_words = FreqDist(tokenized_word)\n",
    "print(dist_words)"
   ]
  },
  {
   "cell_type": "code",
   "execution_count": 6,
   "id": "6d593579-d4e5-463c-9995-ffe9b0c3bffe",
   "metadata": {},
   "outputs": [
    {
     "data": {
      "text/plain": [
       "[('.', 1285),\n",
       " ('the', 1095),\n",
       " (',', 990),\n",
       " ('of', 604),\n",
       " ('and', 397),\n",
       " ('to', 325),\n",
       " ('[', 303),\n",
       " (']', 303),\n",
       " ('The', 302),\n",
       " ('in', 290)]"
      ]
     },
     "execution_count": 6,
     "metadata": {},
     "output_type": "execute_result"
    }
   ],
   "source": [
    "dist_words.most_common(10)"
   ]
  },
  {
   "cell_type": "code",
   "execution_count": 7,
   "id": "4cb6c841-e141-4d81-8081-3466d2fb1b83",
   "metadata": {},
   "outputs": [
    {
     "data": {
      "image/png": "[encoded data removed]",
      "text/plain": [
       "<Figure size 800x300 with 1 Axes>"
      ]
     },
     "metadata": {},
     "output_type": "display_data"
    }
   ],
   "source": [
    "# Frequency distribution plot\n",
    "plt.figure(figsize = (8, 3))\n",
    "dist_words.plot(10, cumulative = False)\n",
    "plt.show()"
   ]
  },
  {
   "cell_type": "markdown",
   "id": "0378de65-1e62-43d9-b549-08a0e3afd6ad",
   "metadata": {},
   "source": [
    "## Remove Stop Words and Punctuation Marks"
   ]
  },
  {
   "cell_type": "code",
   "execution_count": 8,
   "id": "6bb90968-df02-453f-a9aa-25bf575f768d",
   "metadata": {
    "scrolled": true
   },
   "outputs": [],
   "source": [
    "# Defining stop words\n",
    "from nltk.corpus import stopwords\n",
    "stop_words = set(stopwords.words('english'))"
   ]
  },
  {
   "cell_type": "code",
   "execution_count": 9,
   "id": "0c265c2b-e05e-4ba5-a235-9ed8bea030e5",
   "metadata": {},
   "outputs": [],
   "source": [
    "capitalized_stop_words = [word.capitalize() for word in stop_words]"
   ]
  },
  {
   "cell_type": "code",
   "execution_count": 10,
   "id": "759a2800-9d57-4fb4-acd6-ba34e8360ee6",
   "metadata": {},
   "outputs": [],
   "source": [
    "all_stop_words = list(stop_words) + capitalized_stop_words"
   ]
  },
  {
   "cell_type": "code",
   "execution_count": 11,
   "id": "65dfe23d-c122-4d0a-88ba-1ec7688cc25b",
   "metadata": {},
   "outputs": [],
   "source": [
    "# Remove stop words\n",
    "filtered_words = [] # creates an empty list\n",
    "for word in tokenized_word:\n",
    "    if word not in all_stop_words:\n",
    "        filtered_words.append(word)"
   ]
  },
  {
   "cell_type": "code",
   "execution_count": 12,
   "id": "e89d9c92-2453-4924-8590-7ba61693a42d",
   "metadata": {
    "scrolled": true
   },
   "outputs": [
    {
     "data": {
      "text/plain": [
       "['Key', 'events', '20th', 'century', '-']"
      ]
     },
     "execution_count": 12,
     "metadata": {},
     "output_type": "execute_result"
    }
   ],
   "source": [
    "# Check\n",
    "filtered_words[:5]"
   ]
  },
  {
   "cell_type": "code",
   "execution_count": 13,
   "id": "5cd62908-8f35-41a3-8311-2885619d552c",
   "metadata": {},
   "outputs": [],
   "source": [
    "# Substitute all punctuations marks with a space \n",
    "sans_punc = re.sub('[^a-zA-Z]',     # Search for all non-letters\n",
    "                   ' ',             # Replace all non-letters with spaces\n",
    "                   str(filtered_words))"
   ]
  },
  {
   "cell_type": "code",
   "execution_count": 14,
   "id": "8b00a858-cc7d-40ff-a3d3-60041f5e7520",
   "metadata": {
    "scrolled": true
   },
   "outputs": [
    {
     "data": {
      "text/plain": [
       "'  Key    events      th  '"
      ]
     },
     "execution_count": 14,
     "metadata": {},
     "output_type": "execute_result"
    }
   ],
   "source": [
    "# Check\n",
    "sans_punc[:25]"
   ]
  },
  {
   "cell_type": "code",
   "execution_count": 15,
   "id": "9248bb0c-883d-45d0-9249-46ca3824cd67",
   "metadata": {
    "scrolled": true
   },
   "outputs": [
    {
     "name": "stdout",
     "output_type": "stream",
     "text": [
      "['Key', 'events', 'th', 'century', 'WikipediaJump']\n"
     ]
    }
   ],
   "source": [
    "# Word tokenization\n",
    "tokenized_word_2 = word_tokenize(sans_punc)\n",
    "print(tokenized_word_2[:5])"
   ]
  },
  {
   "cell_type": "code",
   "execution_count": 16,
   "id": "a9d62fbe-8953-454f-a9d8-f226e346e98c",
   "metadata": {},
   "outputs": [],
   "source": [
    "# Create a new frequency distribution\n",
    "dist_words_filter_2 = FreqDist(tokenized_word_2)"
   ]
  },
  {
   "cell_type": "code",
   "execution_count": 17,
   "id": "22b1da8a-9c33-4ddd-b785-7c12d1dd4565",
   "metadata": {},
   "outputs": [
    {
     "data": {
      "text/plain": [
       "[('Retrieved', 205),\n",
       " ('War', 129),\n",
       " ('s', 96),\n",
       " ('war', 91),\n",
       " ('th', 86),\n",
       " ('World', 76),\n",
       " ('Soviet', 61),\n",
       " ('Hitler', 50),\n",
       " ('Germany', 43),\n",
       " ('History', 41)]"
      ]
     },
     "execution_count": 17,
     "metadata": {},
     "output_type": "execute_result"
    }
   ],
   "source": [
    "dist_words_filter_2.most_common(10)"
   ]
  },
  {
   "cell_type": "code",
   "execution_count": 18,
   "id": "a03bfc9a-0e77-43c2-9fe6-b692b5dc1cef",
   "metadata": {},
   "outputs": [
    {
     "data": {
      "image/png": "[encoded data removed]",
      "text/plain": [
       "<Figure size 800x300 with 1 Axes>"
      ]
     },
     "metadata": {},
     "output_type": "display_data"
    }
   ],
   "source": [
    "# Frequency distribution plot\n",
    "plt.figure(figsize = (8, 3))\n",
    "dist_words_filter_2.plot(10, cumulative = False)\n",
    "plt.show()"
   ]
  },
  {
   "cell_type": "markdown",
   "id": "e6a45c7c-1b0c-4dbd-8872-8cdf2c6af43e",
   "metadata": {},
   "source": [
    "#### The frequency distribution after removing stop words and punctuation marks becomes more descriptive of the contents of the wiki page.\n",
    "\n",
    "#### The word 'war' is so common that it shows up in the top 10 words in both its upper case and lower case form. We could consider putting everything in lower case to avoid this, however it could cause issues later with identifying countries or potentially proper nouns.\n",
    "\n",
    "#### I was somewhat surprised to see 'Retrieved' as the second most common word. Names of countries and leaders, as well as the word 'war', are not surprising when talking about historical events. I likley would not have been able to guess the word 'retrieved' would be in the top ten words, however it does seem logical."
   ]
  },
  {
   "cell_type": "markdown",
   "id": "643ec6ff-0018-4818-951d-fbc4bd79e2d4",
   "metadata": {},
   "source": [
    "## POS Tags with TextBlob"
   ]
  },
  {
   "cell_type": "code",
   "execution_count": 19,
   "id": "ccea3da3-7ea6-4207-ba15-14c0870fc261",
   "metadata": {},
   "outputs": [
    {
     "data": {
      "text/plain": [
       "[('Retrieved', 205),\n",
       " ('War', 129),\n",
       " ('s', 96),\n",
       " ('war', 91),\n",
       " ('th', 86),\n",
       " ('World', 76),\n",
       " ('Soviet', 61),\n",
       " ('Hitler', 50),\n",
       " ('Germany', 43),\n",
       " ('History', 41),\n",
       " ('world', 39),\n",
       " ('www', 39),\n",
       " ('ISBN', 39),\n",
       " ('first', 38),\n",
       " ('century', 36),\n",
       " ('Japanese', 36),\n",
       " ('would', 35),\n",
       " ('German', 34),\n",
       " ('edit', 33),\n",
       " ('Japan', 33),\n",
       " ('Germans', 32),\n",
       " ('New', 31),\n",
       " ('Union', 31),\n",
       " ('II', 30),\n",
       " ('United', 30),\n",
       " ('S', 30),\n",
       " ('ISSN', 30),\n",
       " ('Europe', 29),\n",
       " ('also', 29),\n",
       " ('became', 27)]"
      ]
     },
     "execution_count": 19,
     "metadata": {},
     "output_type": "execute_result"
    }
   ],
   "source": [
    "# First look at top 30 most common words in our working list\n",
    "dist_words_filter_2.most_common(30)"
   ]
  },
  {
   "cell_type": "code",
   "execution_count": 20,
   "id": "8fa0fcb4-2e11-4776-b908-bf5cdf152561",
   "metadata": {},
   "outputs": [],
   "source": [
    "# List additional new stop words\n",
    "new_stopwords = ['s', 'th', 'www', 'ISBN', 'would', 'S', 'ISSN']"
   ]
  },
  {
   "cell_type": "code",
   "execution_count": 21,
   "id": "a1edde44-12b8-4ad3-a7f4-3f675ca7c356",
   "metadata": {},
   "outputs": [],
   "source": [
    "# Remove additional new stop words\n",
    "filtered = []\n",
    "for word in tokenized_word_2:\n",
    "    if word not in new_stopwords:\n",
    "        filtered.append(word)"
   ]
  },
  {
   "cell_type": "code",
   "execution_count": 22,
   "id": "af570d10-eb82-4b21-b621-53fb7f47ae83",
   "metadata": {},
   "outputs": [],
   "source": [
    "# Remove quotation marks around words\n",
    "clean_text = re.sub(r\"'\", \"\", str(filtered))"
   ]
  },
  {
   "cell_type": "code",
   "execution_count": 23,
   "id": "3221bfe1-1996-4ac3-a206-a29fd95f09e4",
   "metadata": {},
   "outputs": [
    {
     "data": {
      "text/plain": [
       "'[Key, events, century, Wi'"
      ]
     },
     "execution_count": 23,
     "metadata": {},
     "output_type": "execute_result"
    }
   ],
   "source": [
    "clean_text[:25]"
   ]
  },
  {
   "cell_type": "code",
   "execution_count": 24,
   "id": "fb4d4932-d63f-4186-a496-eaf7fce56635",
   "metadata": {},
   "outputs": [
    {
     "name": "stdout",
     "output_type": "stream",
     "text": [
      "CPU times: user 3.76 ms, sys: 256 µs, total: 4.02 ms\n",
      "Wall time: 8.22 ms\n"
     ]
    }
   ],
   "source": [
    "%%time\n",
    "text = TextBlob(str(clean_text))"
   ]
  },
  {
   "cell_type": "code",
   "execution_count": 25,
   "id": "ac567be1-7682-436c-bb1e-5837bdf7987e",
   "metadata": {},
   "outputs": [],
   "source": [
    "tags_list = list(text.tags)"
   ]
  },
  {
   "cell_type": "code",
   "execution_count": 26,
   "id": "ad5b1d5a-2aaf-43f4-8436-bbec80eb7b11",
   "metadata": {},
   "outputs": [
    {
     "data": {
      "text/plain": [
       "[('[', 'NN'),\n",
       " ('Key', 'NNP'),\n",
       " ('events', 'NNS'),\n",
       " ('century', 'NN'),\n",
       " ('WikipediaJump', 'NNP')]"
      ]
     },
     "execution_count": 26,
     "metadata": {},
     "output_type": "execute_result"
    }
   ],
   "source": [
    "tags_list[:5]"
   ]
  },
  {
   "cell_type": "code",
   "execution_count": 27,
   "id": "f09eb5b9-f9d6-4414-997c-ae63bb286339",
   "metadata": {},
   "outputs": [],
   "source": [
    "# Convert tags list to df\n",
    "df_text = pd.DataFrame(tags_list)\n",
    "df_text.columns = ['Words', 'Word type']"
   ]
  },
  {
   "cell_type": "code",
   "execution_count": 28,
   "id": "e329347d-6985-4d8d-84f2-533e308c4512",
   "metadata": {},
   "outputs": [
    {
     "data": {
      "text/html": [
       "<div>\n",
       "<style scoped>\n",
       "    .dataframe tbody tr th:only-of-type {\n",
       "        vertical-align: middle;\n",
       "    }\n",
       "\n",
       "    .dataframe tbody tr th {\n",
       "        vertical-align: top;\n",
       "    }\n",
       "\n",
       "    .dataframe thead th {\n",
       "        text-align: right;\n",
       "    }\n",
       "</style>\n",
       "<table border=\"1\" class=\"dataframe\">\n",
       "  <thead>\n",
       "    <tr style=\"text-align: right;\">\n",
       "      <th></th>\n",
       "      <th>Words</th>\n",
       "      <th>Word type</th>\n",
       "    </tr>\n",
       "  </thead>\n",
       "  <tbody>\n",
       "    <tr>\n",
       "      <th>0</th>\n",
       "      <td>[</td>\n",
       "      <td>NN</td>\n",
       "    </tr>\n",
       "    <tr>\n",
       "      <th>1</th>\n",
       "      <td>Key</td>\n",
       "      <td>NNP</td>\n",
       "    </tr>\n",
       "    <tr>\n",
       "      <th>2</th>\n",
       "      <td>events</td>\n",
       "      <td>NNS</td>\n",
       "    </tr>\n",
       "    <tr>\n",
       "      <th>3</th>\n",
       "      <td>century</td>\n",
       "      <td>NN</td>\n",
       "    </tr>\n",
       "    <tr>\n",
       "      <th>4</th>\n",
       "      <td>WikipediaJump</td>\n",
       "      <td>NNP</td>\n",
       "    </tr>\n",
       "  </tbody>\n",
       "</table>\n",
       "</div>"
      ],
      "text/plain": [
       "           Words Word type\n",
       "0              [        NN\n",
       "1            Key       NNP\n",
       "2         events       NNS\n",
       "3        century        NN\n",
       "4  WikipediaJump       NNP"
      ]
     },
     "execution_count": 28,
     "metadata": {},
     "output_type": "execute_result"
    }
   ],
   "source": [
    "df_text.head()"
   ]
  },
  {
   "cell_type": "code",
   "execution_count": 29,
   "id": "6e3d62e1-77c0-41ef-9b8c-154b75a28538",
   "metadata": {},
   "outputs": [],
   "source": [
    "# Group by word type\n",
    "df_t = df_text.groupby('Word type').count().reset_index()"
   ]
  },
  {
   "cell_type": "code",
   "execution_count": 30,
   "id": "d1fab39e-0d70-4b7b-90a4-174b46f646dc",
   "metadata": {},
   "outputs": [
    {
     "data": {
      "text/html": [
       "<div>\n",
       "<style scoped>\n",
       "    .dataframe tbody tr th:only-of-type {\n",
       "        vertical-align: middle;\n",
       "    }\n",
       "\n",
       "    .dataframe tbody tr th {\n",
       "        vertical-align: top;\n",
       "    }\n",
       "\n",
       "    .dataframe thead th {\n",
       "        text-align: right;\n",
       "    }\n",
       "</style>\n",
       "<table border=\"1\" class=\"dataframe\">\n",
       "  <thead>\n",
       "    <tr style=\"text-align: right;\">\n",
       "      <th></th>\n",
       "      <th>Word type</th>\n",
       "      <th>Words</th>\n",
       "    </tr>\n",
       "  </thead>\n",
       "  <tbody>\n",
       "    <tr>\n",
       "      <th>0</th>\n",
       "      <td>CC</td>\n",
       "      <td>2</td>\n",
       "    </tr>\n",
       "    <tr>\n",
       "      <th>1</th>\n",
       "      <td>CD</td>\n",
       "      <td>61</td>\n",
       "    </tr>\n",
       "    <tr>\n",
       "      <th>2</th>\n",
       "      <td>DT</td>\n",
       "      <td>33</td>\n",
       "    </tr>\n",
       "    <tr>\n",
       "      <th>3</th>\n",
       "      <td>FW</td>\n",
       "      <td>13</td>\n",
       "    </tr>\n",
       "    <tr>\n",
       "      <th>4</th>\n",
       "      <td>IN</td>\n",
       "      <td>90</td>\n",
       "    </tr>\n",
       "  </tbody>\n",
       "</table>\n",
       "</div>"
      ],
      "text/plain": [
       "  Word type  Words\n",
       "0        CC      2\n",
       "1        CD     61\n",
       "2        DT     33\n",
       "3        FW     13\n",
       "4        IN     90"
      ]
     },
     "execution_count": 30,
     "metadata": {},
     "output_type": "execute_result"
    }
   ],
   "source": [
    "df_t.head()"
   ]
  },
  {
   "cell_type": "code",
   "execution_count": 31,
   "id": "660af9a7-d784-4d88-8a76-37a243f2c166",
   "metadata": {},
   "outputs": [],
   "source": [
    "# Top 10 POS tags\n",
    "top10 = df_t.nlargest(10, 'Words')"
   ]
  },
  {
   "cell_type": "code",
   "execution_count": 32,
   "id": "9371eb4e-5ddc-4b09-aa0a-f1150a25e1fb",
   "metadata": {},
   "outputs": [
    {
     "data": {
      "image/png": "[encoded data removed]",
      "text/plain": [
       "<Figure size 1000x500 with 1 Axes>"
      ]
     },
     "metadata": {},
     "output_type": "display_data"
    }
   ],
   "source": [
    "# Plot top 10 POS tags\n",
    "plt.figure(figsize = (10, 5))\n",
    "with sns.dark_palette('xkcd:blue', 10):\n",
    "    sns.barplot(x = 'Words', y = 'Word type',\n",
    "    saturation = 0.9, data = top10).set_title('Key events of the 20th century - top 10 word types used')"
   ]
  },
  {
   "cell_type": "code",
   "execution_count": 33,
   "id": "98875657-d6e2-466e-909c-489feee64d97",
   "metadata": {},
   "outputs": [],
   "source": [
    "# Look at nouns only\n",
    "df = df_text[(df_text['Word type'] == 'NN') | (df_text['Word type'] == 'NNS') | (df_text['Word type'] == 'NNP')]\n",
    "df.columns = ['Word', 'Occurences']\n",
    "x = df.groupby('Word').count().reset_index()\n",
    "y = x.sort_values(by = ['Occurences'], ascending = False)\n",
    "top15 = y.nlargest(15, 'Occurences')"
   ]
  },
  {
   "cell_type": "code",
   "execution_count": 34,
   "id": "156851d7-8a5c-4b14-8f6c-e950187d7b43",
   "metadata": {},
   "outputs": [
    {
     "data": {
      "text/html": [
       "<div>\n",
       "<style scoped>\n",
       "    .dataframe tbody tr th:only-of-type {\n",
       "        vertical-align: middle;\n",
       "    }\n",
       "\n",
       "    .dataframe tbody tr th {\n",
       "        vertical-align: top;\n",
       "    }\n",
       "\n",
       "    .dataframe thead th {\n",
       "        text-align: right;\n",
       "    }\n",
       "</style>\n",
       "<table border=\"1\" class=\"dataframe\">\n",
       "  <thead>\n",
       "    <tr style=\"text-align: right;\">\n",
       "      <th></th>\n",
       "      <th>Word</th>\n",
       "      <th>Occurences</th>\n",
       "    </tr>\n",
       "  </thead>\n",
       "  <tbody>\n",
       "    <tr>\n",
       "      <th>1268</th>\n",
       "      <td>Retrieved</td>\n",
       "      <td>204</td>\n",
       "    </tr>\n",
       "    <tr>\n",
       "      <th>1593</th>\n",
       "      <td>War</td>\n",
       "      <td>129</td>\n",
       "    </tr>\n",
       "    <tr>\n",
       "      <th>2928</th>\n",
       "      <td>war</td>\n",
       "      <td>91</td>\n",
       "    </tr>\n",
       "    <tr>\n",
       "      <th>1638</th>\n",
       "      <td>World</td>\n",
       "      <td>76</td>\n",
       "    </tr>\n",
       "    <tr>\n",
       "      <th>682</th>\n",
       "      <td>Hitler</td>\n",
       "      <td>50</td>\n",
       "    </tr>\n",
       "    <tr>\n",
       "      <th>1392</th>\n",
       "      <td>Soviet</td>\n",
       "      <td>47</td>\n",
       "    </tr>\n",
       "    <tr>\n",
       "      <th>603</th>\n",
       "      <td>Germany</td>\n",
       "      <td>43</td>\n",
       "    </tr>\n",
       "    <tr>\n",
       "      <th>680</th>\n",
       "      <td>History</td>\n",
       "      <td>41</td>\n",
       "    </tr>\n",
       "    <tr>\n",
       "      <th>2952</th>\n",
       "      <td>world</td>\n",
       "      <td>39</td>\n",
       "    </tr>\n",
       "    <tr>\n",
       "      <th>1841</th>\n",
       "      <td>century</td>\n",
       "      <td>36</td>\n",
       "    </tr>\n",
       "    <tr>\n",
       "      <th>781</th>\n",
       "      <td>Japan</td>\n",
       "      <td>33</td>\n",
       "    </tr>\n",
       "    <tr>\n",
       "      <th>2037</th>\n",
       "      <td>edit</td>\n",
       "      <td>33</td>\n",
       "    </tr>\n",
       "    <tr>\n",
       "      <th>1549</th>\n",
       "      <td>Union</td>\n",
       "      <td>31</td>\n",
       "    </tr>\n",
       "    <tr>\n",
       "      <th>1066</th>\n",
       "      <td>New</td>\n",
       "      <td>31</td>\n",
       "    </tr>\n",
       "    <tr>\n",
       "      <th>1550</th>\n",
       "      <td>United</td>\n",
       "      <td>30</td>\n",
       "    </tr>\n",
       "  </tbody>\n",
       "</table>\n",
       "</div>"
      ],
      "text/plain": [
       "           Word  Occurences\n",
       "1268  Retrieved         204\n",
       "1593        War         129\n",
       "2928        war          91\n",
       "1638      World          76\n",
       "682      Hitler          50\n",
       "1392     Soviet          47\n",
       "603     Germany          43\n",
       "680     History          41\n",
       "2952      world          39\n",
       "1841    century          36\n",
       "781       Japan          33\n",
       "2037       edit          33\n",
       "1549      Union          31\n",
       "1066        New          31\n",
       "1550     United          30"
      ]
     },
     "execution_count": 34,
     "metadata": {},
     "output_type": "execute_result"
    }
   ],
   "source": [
    "top15"
   ]
  },
  {
   "cell_type": "code",
   "execution_count": 35,
   "id": "067f60b8-8a87-4922-a8a2-91e39be8e651",
   "metadata": {},
   "outputs": [
    {
     "data": {
      "image/png": "[encoded data removed]",
      "text/plain": [
       "<Figure size 1500x500 with 1 Axes>"
      ]
     },
     "metadata": {},
     "output_type": "display_data"
    }
   ],
   "source": [
    "plt.figure(figsize = (15, 5))\n",
    "with sns.dark_palette('xkcd:blue', 15):\n",
    "    sns.barplot(x = 'Word', y = 'Occurences',\n",
    "    saturation = 0.9, data = top15).set_title('Key events of the 20th century - most frequently used nouns')"
   ]
  },
  {
   "cell_type": "markdown",
   "id": "4c5fc032-c545-4fa2-a12d-88dda325744e",
   "metadata": {},
   "source": [
    "#### The frequency of the word 'war' definitely stands out (and the absence of the word 'peace'). I suspect this might contribute to a more negative sentiment analysis. Words like 'Soviet' and 'Hitler' and 'German'/'Germans' stand out and lead me to believe that World War 2 was one of the biggest events of the 20th century.\n",
    "\n",
    "#### It looks like 'retrieved' was incorrectly labeled a noun, and would require further investiagtion to uncover root cause."
   ]
  },
  {
   "cell_type": "code",
   "execution_count": 36,
   "id": "51c5b678-d8da-46eb-b54b-813df28f16fb",
   "metadata": {},
   "outputs": [],
   "source": [
    "# Look at verbs only\n",
    "df = df_text[(df_text['Word type'] == 'VB')  | (df_text['Word type'] == 'VBD')]\n",
    "df.columns = ['Word', 'Occurences']\n",
    "x = df.groupby('Word').count().reset_index()\n",
    "y = x.sort_values(by = ['Occurences'], ascending = False)\n",
    "top15 = y.nlargest(15, 'Occurences')"
   ]
  },
  {
   "cell_type": "code",
   "execution_count": 37,
   "id": "60ca0bc0-b679-47fc-be32-f25a690ef5a3",
   "metadata": {},
   "outputs": [
    {
     "data": {
      "text/html": [
       "<div>\n",
       "<style scoped>\n",
       "    .dataframe tbody tr th:only-of-type {\n",
       "        vertical-align: middle;\n",
       "    }\n",
       "\n",
       "    .dataframe tbody tr th {\n",
       "        vertical-align: top;\n",
       "    }\n",
       "\n",
       "    .dataframe thead th {\n",
       "        text-align: right;\n",
       "    }\n",
       "</style>\n",
       "<table border=\"1\" class=\"dataframe\">\n",
       "  <thead>\n",
       "    <tr style=\"text-align: right;\">\n",
       "      <th></th>\n",
       "      <th>Word</th>\n",
       "      <th>Occurences</th>\n",
       "    </tr>\n",
       "  </thead>\n",
       "  <tbody>\n",
       "    <tr>\n",
       "      <th>38</th>\n",
       "      <td>became</td>\n",
       "      <td>27</td>\n",
       "    </tr>\n",
       "    <tr>\n",
       "      <th>40</th>\n",
       "      <td>began</td>\n",
       "      <td>13</td>\n",
       "    </tr>\n",
       "    <tr>\n",
       "      <th>166</th>\n",
       "      <td>led</td>\n",
       "      <td>13</td>\n",
       "    </tr>\n",
       "    <tr>\n",
       "      <th>51</th>\n",
       "      <td>came</td>\n",
       "      <td>12</td>\n",
       "    </tr>\n",
       "    <tr>\n",
       "      <th>282</th>\n",
       "      <td>used</td>\n",
       "      <td>8</td>\n",
       "    </tr>\n",
       "    <tr>\n",
       "      <th>164</th>\n",
       "      <td>launched</td>\n",
       "      <td>8</td>\n",
       "    </tr>\n",
       "    <tr>\n",
       "      <th>276</th>\n",
       "      <td>took</td>\n",
       "      <td>7</td>\n",
       "    </tr>\n",
       "    <tr>\n",
       "      <th>268</th>\n",
       "      <td>surrendered</td>\n",
       "      <td>7</td>\n",
       "    </tr>\n",
       "    <tr>\n",
       "      <th>278</th>\n",
       "      <td>turned</td>\n",
       "      <td>7</td>\n",
       "    </tr>\n",
       "    <tr>\n",
       "      <th>71</th>\n",
       "      <td>controlled</td>\n",
       "      <td>7</td>\n",
       "    </tr>\n",
       "    <tr>\n",
       "      <th>141</th>\n",
       "      <td>held</td>\n",
       "      <td>6</td>\n",
       "    </tr>\n",
       "    <tr>\n",
       "      <th>113</th>\n",
       "      <td>ended</td>\n",
       "      <td>6</td>\n",
       "    </tr>\n",
       "    <tr>\n",
       "      <th>56</th>\n",
       "      <td>changed</td>\n",
       "      <td>6</td>\n",
       "    </tr>\n",
       "    <tr>\n",
       "      <th>264</th>\n",
       "      <td>suffered</td>\n",
       "      <td>6</td>\n",
       "    </tr>\n",
       "    <tr>\n",
       "      <th>217</th>\n",
       "      <td>refused</td>\n",
       "      <td>5</td>\n",
       "    </tr>\n",
       "  </tbody>\n",
       "</table>\n",
       "</div>"
      ],
      "text/plain": [
       "            Word  Occurences\n",
       "38        became          27\n",
       "40         began          13\n",
       "166          led          13\n",
       "51          came          12\n",
       "282         used           8\n",
       "164     launched           8\n",
       "276         took           7\n",
       "268  surrendered           7\n",
       "278       turned           7\n",
       "71    controlled           7\n",
       "141         held           6\n",
       "113        ended           6\n",
       "56       changed           6\n",
       "264     suffered           6\n",
       "217      refused           5"
      ]
     },
     "execution_count": 37,
     "metadata": {},
     "output_type": "execute_result"
    }
   ],
   "source": [
    "top15"
   ]
  },
  {
   "cell_type": "code",
   "execution_count": 38,
   "id": "551a4c00-e518-430f-b587-c6e823bd2e4b",
   "metadata": {},
   "outputs": [
    {
     "data": {
      "image/png": "[encoded data removed]",
      "text/plain": [
       "<Figure size 1500x500 with 1 Axes>"
      ]
     },
     "metadata": {},
     "output_type": "display_data"
    }
   ],
   "source": [
    "plt.figure(figsize = (15, 5))\n",
    "with sns.dark_palette('xkcd:blue', 15):\n",
    "    sns.barplot(x = 'Word', y = 'Occurences',\n",
    "    saturation = 0.9, data = top15).set_title('Key events of the 20th century - most frequently used verbs')"
   ]
  },
  {
   "cell_type": "markdown",
   "id": "733bdb80-d03c-41ae-b9f9-d25bed0b2c6b",
   "metadata": {},
   "source": [
    "#### The word 'Retrieved' stands out as it is by far the most frequently used verb. Retrieve can mean recover, rescue, win back, etc. which all make sense in the context of international relations and war. The word 'United' stands out as the second most frequently used verb, however this might be referring to The United States rather than the verb 'united'. This could be worth investigating further, especially if we want to perform a sentiment analysis since the verb 'united' is a rather positive one."
   ]
  },
  {
   "cell_type": "code",
   "execution_count": 39,
   "id": "5a0f047b-7730-4ced-9d4c-cb458d640180",
   "metadata": {},
   "outputs": [],
   "source": [
    "# Look at adjectives only\n",
    "df = df_text[df_text['Word type'] == 'JJ']\n",
    "df.columns = ['Word', 'Occurences']\n",
    "x = df.groupby('Word').count().reset_index()\n",
    "y = x.sort_values(by = ['Occurences'], ascending = False)\n",
    "top15 = y.nlargest(15, 'Occurences')"
   ]
  },
  {
   "cell_type": "code",
   "execution_count": 40,
   "id": "ce85a713-e872-4346-85f3-ccc3720237a6",
   "metadata": {},
   "outputs": [
    {
     "data": {
      "text/html": [
       "<div>\n",
       "<style scoped>\n",
       "    .dataframe tbody tr th:only-of-type {\n",
       "        vertical-align: middle;\n",
       "    }\n",
       "\n",
       "    .dataframe tbody tr th {\n",
       "        vertical-align: top;\n",
       "    }\n",
       "\n",
       "    .dataframe thead th {\n",
       "        text-align: right;\n",
       "    }\n",
       "</style>\n",
       "<table border=\"1\" class=\"dataframe\">\n",
       "  <thead>\n",
       "    <tr style=\"text-align: right;\">\n",
       "      <th></th>\n",
       "      <th>Word</th>\n",
       "      <th>Occurences</th>\n",
       "    </tr>\n",
       "  </thead>\n",
       "  <tbody>\n",
       "    <tr>\n",
       "      <th>11</th>\n",
       "      <td>Japanese</td>\n",
       "      <td>27</td>\n",
       "    </tr>\n",
       "    <tr>\n",
       "      <th>194</th>\n",
       "      <td>nuclear</td>\n",
       "      <td>26</td>\n",
       "    </tr>\n",
       "    <tr>\n",
       "      <th>188</th>\n",
       "      <td>new</td>\n",
       "      <td>22</td>\n",
       "    </tr>\n",
       "    <tr>\n",
       "      <th>8</th>\n",
       "      <td>German</td>\n",
       "      <td>20</td>\n",
       "    </tr>\n",
       "    <tr>\n",
       "      <th>171</th>\n",
       "      <td>many</td>\n",
       "      <td>19</td>\n",
       "    </tr>\n",
       "    <tr>\n",
       "      <th>17</th>\n",
       "      <td>Soviet</td>\n",
       "      <td>14</td>\n",
       "    </tr>\n",
       "    <tr>\n",
       "      <th>84</th>\n",
       "      <td>economic</td>\n",
       "      <td>12</td>\n",
       "    </tr>\n",
       "    <tr>\n",
       "      <th>169</th>\n",
       "      <td>major</td>\n",
       "      <td>11</td>\n",
       "    </tr>\n",
       "    <tr>\n",
       "      <th>248</th>\n",
       "      <td>several</td>\n",
       "      <td>10</td>\n",
       "    </tr>\n",
       "    <tr>\n",
       "      <th>202</th>\n",
       "      <td>original</td>\n",
       "      <td>10</td>\n",
       "    </tr>\n",
       "    <tr>\n",
       "      <th>176</th>\n",
       "      <td>military</td>\n",
       "      <td>9</td>\n",
       "    </tr>\n",
       "    <tr>\n",
       "      <th>189</th>\n",
       "      <td>next</td>\n",
       "      <td>9</td>\n",
       "    </tr>\n",
       "    <tr>\n",
       "      <th>244</th>\n",
       "      <td>second</td>\n",
       "      <td>8</td>\n",
       "    </tr>\n",
       "    <tr>\n",
       "      <th>153</th>\n",
       "      <td>last</td>\n",
       "      <td>8</td>\n",
       "    </tr>\n",
       "    <tr>\n",
       "      <th>197</th>\n",
       "      <td>offensive</td>\n",
       "      <td>8</td>\n",
       "    </tr>\n",
       "  </tbody>\n",
       "</table>\n",
       "</div>"
      ],
      "text/plain": [
       "          Word  Occurences\n",
       "11    Japanese          27\n",
       "194    nuclear          26\n",
       "188        new          22\n",
       "8       German          20\n",
       "171       many          19\n",
       "17      Soviet          14\n",
       "84    economic          12\n",
       "169      major          11\n",
       "248    several          10\n",
       "202   original          10\n",
       "176   military           9\n",
       "189       next           9\n",
       "244     second           8\n",
       "153       last           8\n",
       "197  offensive           8"
      ]
     },
     "execution_count": 40,
     "metadata": {},
     "output_type": "execute_result"
    }
   ],
   "source": [
    "top15"
   ]
  },
  {
   "cell_type": "code",
   "execution_count": 41,
   "id": "bdc75867-7a8b-4b7c-8366-f8678c75b45e",
   "metadata": {},
   "outputs": [
    {
     "data": {
      "image/png": "[encoded data removed]",
      "text/plain": [
       "<Figure size 1500x500 with 1 Axes>"
      ]
     },
     "metadata": {},
     "output_type": "display_data"
    }
   ],
   "source": [
    "plt.figure(figsize = (15, 5))\n",
    "with sns.dark_palette('xkcd:blue', 15):\n",
    "    sns.barplot(x = 'Word', y = 'Occurences',\n",
    "    saturation = 0.9, data = top15).set_title('Key events of the 20th century - most frequently used adjectives')"
   ]
  },
  {
   "cell_type": "markdown",
   "id": "61bd0256-a032-49fd-b617-6881d91bba8b",
   "metadata": {},
   "source": [
    "#### All of the nationalities stand out first thing. This is not surprising as the text is about key world events. 'Political' is the most frequent adjective that is not a nationality, and it definitely fits the theme of key world events. Words like 'Brian' and 'These' are not adjectives, but for the most part these POS tags appear to be very accuracte."
   ]
  },
  {
   "cell_type": "markdown",
   "id": "605373de-84be-4143-87bb-58f1e97c4ead",
   "metadata": {},
   "source": [
    "## Counting Country Occurances"
   ]
  },
  {
   "cell_type": "code",
   "execution_count": 42,
   "id": "8bac9786-a11b-4570-ae98-f151ceb4ad89",
   "metadata": {
    "scrolled": true
   },
   "outputs": [
    {
     "name": "stdout",
     "output_type": "stream",
     "text": [
      "Key events century Wikipe\n"
     ]
    }
   ],
   "source": [
    "listToStr = ' '.join([str(elem) for elem in filtered])\n",
    " \n",
    "print(listToStr[:25])"
   ]
  },
  {
   "cell_type": "code",
   "execution_count": 43,
   "id": "b082d0ea-5d4a-4939-9083-447b57166961",
   "metadata": {},
   "outputs": [],
   "source": [
    "# Create a count for all words\n",
    "all_counts = Counter(re.sub(r'\\W+', ' ', listToStr).split())"
   ]
  },
  {
   "cell_type": "code",
   "execution_count": 44,
   "id": "2f8e81ca-5f77-451a-9496-9e35ecc707b0",
   "metadata": {},
   "outputs": [],
   "source": [
    "# Get country list\n",
    "countries = pd.read_csv('countries_list_20th_century_1.5.csv', index_col = 0)"
   ]
  },
  {
   "cell_type": "code",
   "execution_count": 45,
   "id": "142cdd4c-6286-461e-9988-f38f7137a595",
   "metadata": {},
   "outputs": [
    {
     "data": {
      "text/html": [
       "<div>\n",
       "<style scoped>\n",
       "    .dataframe tbody tr th:only-of-type {\n",
       "        vertical-align: middle;\n",
       "    }\n",
       "\n",
       "    .dataframe tbody tr th {\n",
       "        vertical-align: top;\n",
       "    }\n",
       "\n",
       "    .dataframe thead th {\n",
       "        text-align: right;\n",
       "    }\n",
       "</style>\n",
       "<table border=\"1\" class=\"dataframe\">\n",
       "  <thead>\n",
       "    <tr style=\"text-align: right;\">\n",
       "      <th></th>\n",
       "      <th>country_name</th>\n",
       "    </tr>\n",
       "  </thead>\n",
       "  <tbody>\n",
       "    <tr>\n",
       "      <th>1</th>\n",
       "      <td>Afghanistan</td>\n",
       "    </tr>\n",
       "    <tr>\n",
       "      <th>2</th>\n",
       "      <td>Albania</td>\n",
       "    </tr>\n",
       "    <tr>\n",
       "      <th>3</th>\n",
       "      <td>Algeria</td>\n",
       "    </tr>\n",
       "    <tr>\n",
       "      <th>4</th>\n",
       "      <td>Andorra</td>\n",
       "    </tr>\n",
       "    <tr>\n",
       "      <th>5</th>\n",
       "      <td>Angola</td>\n",
       "    </tr>\n",
       "  </tbody>\n",
       "</table>\n",
       "</div>"
      ],
      "text/plain": [
       "    country_name\n",
       "1   Afghanistan \n",
       "2       Albania \n",
       "3       Algeria \n",
       "4       Andorra \n",
       "5        Angola "
      ]
     },
     "execution_count": 45,
     "metadata": {},
     "output_type": "execute_result"
    }
   ],
   "source": [
    "# Check\n",
    "countries.head()"
   ]
  },
  {
   "cell_type": "code",
   "execution_count": 46,
   "id": "717e20ea-28a7-41e9-a1c3-67c4ff86a576",
   "metadata": {},
   "outputs": [],
   "source": [
    "# Get list from df\n",
    "country_list = countries['country_name'].to_list()"
   ]
  },
  {
   "cell_type": "code",
   "execution_count": 47,
   "id": "dbd5b0b8-eba9-488a-a353-cc4f03a42c29",
   "metadata": {},
   "outputs": [],
   "source": [
    "# Remove spaces before and after country names\n",
    "country_list_clean = [s.strip() for s in country_list]"
   ]
  },
  {
   "cell_type": "code",
   "execution_count": 48,
   "id": "af5dcd5a-05ca-484c-ace0-be45e127ef48",
   "metadata": {},
   "outputs": [],
   "source": [
    "# Count country occurances\n",
    "dict_of_counts = {d : all_counts[d] for d in country_list_clean}"
   ]
  },
  {
   "cell_type": "code",
   "execution_count": 49,
   "id": "a4e5d62c-e132-47ac-8dbe-c056a9b69dcf",
   "metadata": {},
   "outputs": [],
   "source": [
    "# Search for the names from the list in the dictionary and put into df\n",
    "dct = {v:[k] for v,k in dict_of_counts.items()}  \n",
    "df = pd.DataFrame(dct)"
   ]
  },
  {
   "cell_type": "code",
   "execution_count": 50,
   "id": "5d969331-b1d7-443c-b1d1-0b8d42ec2c6a",
   "metadata": {},
   "outputs": [
    {
     "data": {
      "text/html": [
       "<div>\n",
       "<style scoped>\n",
       "    .dataframe tbody tr th:only-of-type {\n",
       "        vertical-align: middle;\n",
       "    }\n",
       "\n",
       "    .dataframe tbody tr th {\n",
       "        vertical-align: top;\n",
       "    }\n",
       "\n",
       "    .dataframe thead th {\n",
       "        text-align: right;\n",
       "    }\n",
       "</style>\n",
       "<table border=\"1\" class=\"dataframe\">\n",
       "  <thead>\n",
       "    <tr style=\"text-align: right;\">\n",
       "      <th></th>\n",
       "      <th>Afghanistan</th>\n",
       "      <th>Albania</th>\n",
       "      <th>Algeria</th>\n",
       "      <th>Andorra</th>\n",
       "      <th>Angola</th>\n",
       "      <th>Antigua and Barbuda</th>\n",
       "      <th>Argentina</th>\n",
       "      <th>Armenia</th>\n",
       "      <th>Australia</th>\n",
       "      <th>Austria</th>\n",
       "      <th>...</th>\n",
       "      <th>Donetsk People's Republic</th>\n",
       "      <th>Kosovo</th>\n",
       "      <th>Luhansk People's Republic</th>\n",
       "      <th>Niue</th>\n",
       "      <th>Northern Cyprus</th>\n",
       "      <th>Sahrawi Arab Democratic Republic</th>\n",
       "      <th>Somaliland</th>\n",
       "      <th>South Ossetia</th>\n",
       "      <th>Taiwan</th>\n",
       "      <th>Transnistria</th>\n",
       "    </tr>\n",
       "  </thead>\n",
       "  <tbody>\n",
       "    <tr>\n",
       "      <th>0</th>\n",
       "      <td>1</td>\n",
       "      <td>2</td>\n",
       "      <td>1</td>\n",
       "      <td>0</td>\n",
       "      <td>1</td>\n",
       "      <td>0</td>\n",
       "      <td>0</td>\n",
       "      <td>0</td>\n",
       "      <td>2</td>\n",
       "      <td>5</td>\n",
       "      <td>...</td>\n",
       "      <td>0</td>\n",
       "      <td>0</td>\n",
       "      <td>0</td>\n",
       "      <td>0</td>\n",
       "      <td>0</td>\n",
       "      <td>0</td>\n",
       "      <td>0</td>\n",
       "      <td>0</td>\n",
       "      <td>0</td>\n",
       "      <td>0</td>\n",
       "    </tr>\n",
       "  </tbody>\n",
       "</table>\n",
       "<p>1 rows × 208 columns</p>\n",
       "</div>"
      ],
      "text/plain": [
       "   Afghanistan  Albania  Algeria  Andorra  Angola  Antigua and Barbuda  \\\n",
       "0            1        2        1        0       1                    0   \n",
       "\n",
       "   Argentina  Armenia  Australia  Austria  ...  Donetsk People's Republic  \\\n",
       "0          0        0          2        5  ...                          0   \n",
       "\n",
       "   Kosovo  Luhansk People's Republic  Niue  Northern Cyprus  \\\n",
       "0       0                          0     0                0   \n",
       "\n",
       "   Sahrawi Arab Democratic Republic  Somaliland  South Ossetia  Taiwan  \\\n",
       "0                                 0           0              0       0   \n",
       "\n",
       "   Transnistria  \n",
       "0             0  \n",
       "\n",
       "[1 rows x 208 columns]"
      ]
     },
     "execution_count": 50,
     "metadata": {},
     "output_type": "execute_result"
    }
   ],
   "source": [
    "# Check\n",
    "df"
   ]
  },
  {
   "cell_type": "code",
   "execution_count": 51,
   "id": "2611ee66-2ccb-4387-83d6-50b11ba1002f",
   "metadata": {},
   "outputs": [],
   "source": [
    "df = df.transpose().reset_index()"
   ]
  },
  {
   "cell_type": "code",
   "execution_count": 52,
   "id": "152e6901-545e-4e67-a45a-4179790604a5",
   "metadata": {},
   "outputs": [
    {
     "data": {
      "text/plain": [
       "index    object\n",
       "0         int64\n",
       "dtype: object"
      ]
     },
     "execution_count": 52,
     "metadata": {},
     "output_type": "execute_result"
    }
   ],
   "source": [
    "df.dtypes"
   ]
  },
  {
   "cell_type": "code",
   "execution_count": 53,
   "id": "1598c4f8-d3a5-4c3f-8edf-7702a9983c53",
   "metadata": {},
   "outputs": [
    {
     "data": {
      "text/html": [
       "<div>\n",
       "<style scoped>\n",
       "    .dataframe tbody tr th:only-of-type {\n",
       "        vertical-align: middle;\n",
       "    }\n",
       "\n",
       "    .dataframe tbody tr th {\n",
       "        vertical-align: top;\n",
       "    }\n",
       "\n",
       "    .dataframe thead th {\n",
       "        text-align: right;\n",
       "    }\n",
       "</style>\n",
       "<table border=\"1\" class=\"dataframe\">\n",
       "  <thead>\n",
       "    <tr style=\"text-align: right;\">\n",
       "      <th></th>\n",
       "      <th>index</th>\n",
       "      <th>0</th>\n",
       "    </tr>\n",
       "  </thead>\n",
       "  <tbody>\n",
       "    <tr>\n",
       "      <th>0</th>\n",
       "      <td>Afghanistan</td>\n",
       "      <td>1</td>\n",
       "    </tr>\n",
       "    <tr>\n",
       "      <th>1</th>\n",
       "      <td>Albania</td>\n",
       "      <td>2</td>\n",
       "    </tr>\n",
       "    <tr>\n",
       "      <th>2</th>\n",
       "      <td>Algeria</td>\n",
       "      <td>1</td>\n",
       "    </tr>\n",
       "    <tr>\n",
       "      <th>3</th>\n",
       "      <td>Andorra</td>\n",
       "      <td>0</td>\n",
       "    </tr>\n",
       "    <tr>\n",
       "      <th>4</th>\n",
       "      <td>Angola</td>\n",
       "      <td>1</td>\n",
       "    </tr>\n",
       "    <tr>\n",
       "      <th>...</th>\n",
       "      <td>...</td>\n",
       "      <td>...</td>\n",
       "    </tr>\n",
       "    <tr>\n",
       "      <th>203</th>\n",
       "      <td>Sahrawi Arab Democratic Republic</td>\n",
       "      <td>0</td>\n",
       "    </tr>\n",
       "    <tr>\n",
       "      <th>204</th>\n",
       "      <td>Somaliland</td>\n",
       "      <td>0</td>\n",
       "    </tr>\n",
       "    <tr>\n",
       "      <th>205</th>\n",
       "      <td>South Ossetia</td>\n",
       "      <td>0</td>\n",
       "    </tr>\n",
       "    <tr>\n",
       "      <th>206</th>\n",
       "      <td>Taiwan</td>\n",
       "      <td>0</td>\n",
       "    </tr>\n",
       "    <tr>\n",
       "      <th>207</th>\n",
       "      <td>Transnistria</td>\n",
       "      <td>0</td>\n",
       "    </tr>\n",
       "  </tbody>\n",
       "</table>\n",
       "<p>208 rows × 2 columns</p>\n",
       "</div>"
      ],
      "text/plain": [
       "                                index  0\n",
       "0                         Afghanistan  1\n",
       "1                             Albania  2\n",
       "2                             Algeria  1\n",
       "3                             Andorra  0\n",
       "4                              Angola  1\n",
       "..                                ... ..\n",
       "203  Sahrawi Arab Democratic Republic  0\n",
       "204                        Somaliland  0\n",
       "205                     South Ossetia  0\n",
       "206                            Taiwan  0\n",
       "207                      Transnistria  0\n",
       "\n",
       "[208 rows x 2 columns]"
      ]
     },
     "execution_count": 53,
     "metadata": {},
     "output_type": "execute_result"
    }
   ],
   "source": [
    "df"
   ]
  },
  {
   "cell_type": "code",
   "execution_count": 54,
   "id": "91087c32-835e-4fdd-aa08-5a8744e09300",
   "metadata": {},
   "outputs": [],
   "source": [
    "df.rename(columns = {'index': 'Country', 0: 'Times mentioned'}, inplace = True)"
   ]
  },
  {
   "cell_type": "code",
   "execution_count": 55,
   "id": "af011b97-5260-4a25-9fd6-8ba768ee3405",
   "metadata": {},
   "outputs": [
    {
     "data": {
      "text/html": [
       "<div>\n",
       "<style scoped>\n",
       "    .dataframe tbody tr th:only-of-type {\n",
       "        vertical-align: middle;\n",
       "    }\n",
       "\n",
       "    .dataframe tbody tr th {\n",
       "        vertical-align: top;\n",
       "    }\n",
       "\n",
       "    .dataframe thead th {\n",
       "        text-align: right;\n",
       "    }\n",
       "</style>\n",
       "<table border=\"1\" class=\"dataframe\">\n",
       "  <thead>\n",
       "    <tr style=\"text-align: right;\">\n",
       "      <th></th>\n",
       "      <th>Country</th>\n",
       "      <th>Times mentioned</th>\n",
       "    </tr>\n",
       "  </thead>\n",
       "  <tbody>\n",
       "    <tr>\n",
       "      <th>0</th>\n",
       "      <td>Afghanistan</td>\n",
       "      <td>1</td>\n",
       "    </tr>\n",
       "    <tr>\n",
       "      <th>1</th>\n",
       "      <td>Albania</td>\n",
       "      <td>2</td>\n",
       "    </tr>\n",
       "    <tr>\n",
       "      <th>2</th>\n",
       "      <td>Algeria</td>\n",
       "      <td>1</td>\n",
       "    </tr>\n",
       "    <tr>\n",
       "      <th>3</th>\n",
       "      <td>Andorra</td>\n",
       "      <td>0</td>\n",
       "    </tr>\n",
       "    <tr>\n",
       "      <th>4</th>\n",
       "      <td>Angola</td>\n",
       "      <td>1</td>\n",
       "    </tr>\n",
       "    <tr>\n",
       "      <th>...</th>\n",
       "      <td>...</td>\n",
       "      <td>...</td>\n",
       "    </tr>\n",
       "    <tr>\n",
       "      <th>203</th>\n",
       "      <td>Sahrawi Arab Democratic Republic</td>\n",
       "      <td>0</td>\n",
       "    </tr>\n",
       "    <tr>\n",
       "      <th>204</th>\n",
       "      <td>Somaliland</td>\n",
       "      <td>0</td>\n",
       "    </tr>\n",
       "    <tr>\n",
       "      <th>205</th>\n",
       "      <td>South Ossetia</td>\n",
       "      <td>0</td>\n",
       "    </tr>\n",
       "    <tr>\n",
       "      <th>206</th>\n",
       "      <td>Taiwan</td>\n",
       "      <td>0</td>\n",
       "    </tr>\n",
       "    <tr>\n",
       "      <th>207</th>\n",
       "      <td>Transnistria</td>\n",
       "      <td>0</td>\n",
       "    </tr>\n",
       "  </tbody>\n",
       "</table>\n",
       "<p>208 rows × 2 columns</p>\n",
       "</div>"
      ],
      "text/plain": [
       "                              Country  Times mentioned\n",
       "0                         Afghanistan                1\n",
       "1                             Albania                2\n",
       "2                             Algeria                1\n",
       "3                             Andorra                0\n",
       "4                              Angola                1\n",
       "..                                ...              ...\n",
       "203  Sahrawi Arab Democratic Republic                0\n",
       "204                        Somaliland                0\n",
       "205                     South Ossetia                0\n",
       "206                            Taiwan                0\n",
       "207                      Transnistria                0\n",
       "\n",
       "[208 rows x 2 columns]"
      ]
     },
     "execution_count": 55,
     "metadata": {},
     "output_type": "execute_result"
    }
   ],
   "source": [
    "df"
   ]
  },
  {
   "cell_type": "code",
   "execution_count": 56,
   "id": "2133fd33-9e9a-4608-8fc0-f55f6846e36a",
   "metadata": {},
   "outputs": [
    {
     "data": {
      "text/plain": [
       "(208, 2)"
      ]
     },
     "execution_count": 56,
     "metadata": {},
     "output_type": "execute_result"
    }
   ],
   "source": [
    "df.shape"
   ]
  },
  {
   "cell_type": "code",
   "execution_count": 57,
   "id": "9117643f-3a36-4079-adae-33f046c8c526",
   "metadata": {},
   "outputs": [],
   "source": [
    "# Filter to show countries mentioned over 2 times\n",
    "df_filtered = df[df['Times mentioned'] > 2]"
   ]
  },
  {
   "cell_type": "code",
   "execution_count": 58,
   "id": "02b178f0-88a1-4c25-8a5d-9cd567033a37",
   "metadata": {},
   "outputs": [
    {
     "data": {
      "image/png": "[encoded data removed]",
      "text/plain": [
       "<Figure size 1000x500 with 1 Axes>"
      ]
     },
     "metadata": {},
     "output_type": "display_data"
    }
   ],
   "source": [
    "plt.figure(figsize = (10, 5))\n",
    "with sns.dark_palette('#79C', 27):\n",
    "    sns.barplot(x = 'Times mentioned', y = 'Country',\n",
    "    saturation = 0.9, data = df_filtered.sort_values('Times mentioned', ascending = False)).set_title('Key events of the 20th century - most frequently mentioned countries')"
   ]
  },
  {
   "cell_type": "markdown",
   "id": "5c61f942-8da7-42d3-9a7b-efbed9da8dd9",
   "metadata": {},
   "source": [
    "#### The first thing I notice is that Germany is mentioned the most times. This aligns with looking at the most frequent nouns earlier where there were a lot of nouns relating to World War 2.\n",
    "\n",
    "#### It is also noteworthy that the United States is not on this list. Likely the words got separated. Perhaps in the very beginning we could replace common variations of the US (e.g. 'the united states' and 'US') with one word like 'America' and that would more accurately capture the most frequently mentioned countries. A similar approach could be taken for the United Kingdom.\n",
    "\n",
    "#### Also in our list of countries, 'China, People's Republic of', 'Korea, North', and 'Korea, South' are written in this format that most likely would not match how they appear in our data. In this case it would be easier to replace them in our dataframe of countries."
   ]
  },
  {
   "cell_type": "code",
   "execution_count": null,
   "id": "7bd3f3c1-7f22-4011-9e94-48c5441c1cc4",
   "metadata": {},
   "outputs": [],
   "source": []
  }
 ],
 "metadata": {
  "kernelspec": {
   "display_name": "Python [conda env:venv_20th_century]",
   "language": "python",
   "name": "conda-env-venv_20th_century-py"
  },
  "language_info": {
   "codemirror_mode": {
    "name": "ipython",
    "version": 3
   },
   "file_extension": ".py",
   "mimetype": "text/x-python",
   "name": "python",
   "nbconvert_exporter": "python",
   "pygments_lexer": "ipython3",
   "version": "3.10.14"
  }
 },
 "nbformat": 4,
 "nbformat_minor": 5
}
